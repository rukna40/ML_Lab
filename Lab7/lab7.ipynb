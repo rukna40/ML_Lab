{
 "cells": [
  {
   "cell_type": "code",
   "execution_count": 970,
   "metadata": {},
   "outputs": [],
   "source": [
    "import pandas as pd\n",
    "import numpy as np"
   ]
  },
  {
   "cell_type": "markdown",
   "metadata": {},
   "source": [
    "1. Implement in python program of the following problems using Bayes Theorem. \n",
    "\n",
    "    a)  Of  the  students  in  the  college,  60%  of  the  students  reside  in  the  hostel  and  40%  of  the  students  are  day \n",
    "    scholars. Previous year results report that 30% of all students who stay in the hostel scored A Grade and 20% \n",
    "    of day scholars scored A grade. At the end of the year, one student is chosen at random and found that he/she \n",
    "    has an A grade. What is the probability that the student is a hosteler?  "
   ]
  },
  {
   "cell_type": "code",
   "execution_count": 971,
   "metadata": {},
   "outputs": [
    {
     "name": "stdout",
     "output_type": "stream",
     "text": [
      "p_hostel_A = 0.6923076923076923\n"
     ]
    }
   ],
   "source": [
    "p_hostel=0.6\n",
    "p_day=0.4\n",
    "p_A_hostel=0.3\n",
    "p_A_day=0.2\n",
    "\n",
    "p_A=p_hostel*p_A_hostel+p_day*p_A_day\n",
    "\n",
    "p_hostel_A=p_A_hostel*p_hostel/p_A\n",
    "\n",
    "print(\"p_hostel_A =\",p_hostel_A)"
   ]
  },
  {
   "cell_type": "markdown",
   "metadata": {},
   "source": [
    "b) Suppose you're testing for a rare disease, and you have the following information: \n",
    "\n",
    "1. The disease has a prevalence of 0.01 (1% of the population has the disease). \n",
    "2. The test is not perfect: \n",
    "3. The test correctly identifies the disease (true positive) 99% of the time (sensitivity). \n",
    "4. The test incorrectly indicates the disease (false positive) 2% of the time (1 - specificity). \n",
    "\n",
    "Calculate the probability of having the disease given a positive test result using Bayes' theorem."
   ]
  },
  {
   "cell_type": "code",
   "execution_count": 972,
   "metadata": {},
   "outputs": [
    {
     "name": "stdout",
     "output_type": "stream",
     "text": [
      "p_disease_pos = 0.04761904761904762\n"
     ]
    }
   ],
   "source": [
    "p_disease=0.01\n",
    "p_nodisease=1-p_disease\n",
    "p_pos_disease=0.99\n",
    "p_pos_nodisease=0.2\n",
    "\n",
    "p_pos=p_pos_disease*p_disease+p_pos_nodisease*p_nodisease\n",
    "\n",
    "p_disease_pos=p_pos_disease*p_disease/p_pos\n",
    "\n",
    "print(\"p_disease_pos =\",p_disease_pos)"
   ]
  },
  {
   "cell_type": "markdown",
   "metadata": {},
   "source": [
    "2. Develop a function python code for Naïve Bayes classifier from scratch without using scikit-learn library, \n",
    "to predict whether the buyer should buy computer or not. Consider a following sample training dataset stored \n",
    "in a CSV file containing information about following buyer conditions (such as “<=30,” “medium,” “Yes,” \n",
    "and “fair”) and whether the player played golf (“Yes” or “No”)."
   ]
  },
  {
   "cell_type": "code",
   "execution_count": 973,
   "metadata": {},
   "outputs": [],
   "source": [
    "def class_prob(df,y):\n",
    "    p={}\n",
    "    for cls in df[y].unique():\n",
    "        p[cls]=(df[y]==cls).sum()/len(df)\n",
    "    return p"
   ]
  },
  {
   "cell_type": "code",
   "execution_count": 974,
   "metadata": {},
   "outputs": [],
   "source": [
    "def feature_prob(df,y):\n",
    "    probs={}\n",
    "\n",
    "    for cls in df[y].unique():\n",
    "        probs[cls]={}\n",
    "        rows=df[df[y]==cls]\n",
    "        for col in df.columns[:-1]:\n",
    "            probs[cls][col]={}\n",
    "            for value in rows[col].unique():\n",
    "                cnt=(rows[col]==value).sum()\n",
    "                probs[cls][col][value]=cnt/len(rows)\n",
    "    return probs"
   ]
  },
  {
   "cell_type": "code",
   "execution_count": 975,
   "metadata": {},
   "outputs": [],
   "source": [
    "def predict(sample,priors,probs):\n",
    "    result={}\n",
    "    for label in priors:\n",
    "        prob=priors[label]\n",
    "        for feature,value in sample.items():\n",
    "            if value in probs[label][feature]:\n",
    "                prob*=probs[label][feature][value]\n",
    "        result[label]=prob\n",
    "    return max(result,key=lambda x:result[x])"
   ]
  },
  {
   "cell_type": "code",
   "execution_count": 976,
   "metadata": {},
   "outputs": [],
   "source": [
    "df=pd.read_csv('computer.csv')\n",
    "\n",
    "y='buys_computer'"
   ]
  },
  {
   "cell_type": "code",
   "execution_count": 977,
   "metadata": {},
   "outputs": [
    {
     "data": {
      "text/plain": [
       "{'no': {'age': {'<=30': 0.6, '>40': 0.4},\n",
       "  'income': {'high': 0.4, 'low': 0.2, 'medium': 0.4},\n",
       "  'student': {'no': 0.8, 'yes': 0.2},\n",
       "  'credit_rating': {'fair': 0.4, 'excellent': 0.6}},\n",
       " 'yes': {'age': {'31...40': 0.4444444444444444,\n",
       "   '>40': 0.3333333333333333,\n",
       "   '<=30': 0.2222222222222222},\n",
       "  'income': {'high': 0.2222222222222222,\n",
       "   'medium': 0.4444444444444444,\n",
       "   'low': 0.3333333333333333},\n",
       "  'student': {'no': 0.3333333333333333, 'yes': 0.6666666666666666},\n",
       "  'credit_rating': {'fair': 0.6666666666666666,\n",
       "   'excellent': 0.3333333333333333}}}"
      ]
     },
     "execution_count": 977,
     "metadata": {},
     "output_type": "execute_result"
    }
   ],
   "source": [
    "priors=class_prob(df,y)\n",
    "probs=feature_prob(df,y)\n",
    "probs"
   ]
  },
  {
   "cell_type": "code",
   "execution_count": 978,
   "metadata": {},
   "outputs": [],
   "source": [
    "sample=['<=30','medium','yes','fair']\n",
    "x=pd.Series(sample,index=df.columns[:-1])"
   ]
  },
  {
   "cell_type": "code",
   "execution_count": 979,
   "metadata": {},
   "outputs": [
    {
     "data": {
      "text/plain": [
       "'yes'"
      ]
     },
     "execution_count": 979,
     "metadata": {},
     "output_type": "execute_result"
    }
   ],
   "source": [
    "result=predict(x,priors,probs)\n",
    "result"
   ]
  },
  {
   "cell_type": "markdown",
   "metadata": {},
   "source": [
    "3. Write a Python  function  to  implement  the  Naive  Bayes  classifier  without  using  the  scikit-learn  library  for  the \n",
    "following sample training dataset stored as a .CSV file. Calculate the accuracy, precision, and recall for your train/test \n",
    "dataset. \n",
    "\n",
    "    a. Build a classifier that determines whether a text is about sports or not. \n",
    "\n",
    "    b. Determine which tag the sentence \"A very close game\" belongs to."
   ]
  },
  {
   "cell_type": "code",
   "execution_count": 980,
   "metadata": {},
   "outputs": [],
   "source": [
    "df=pd.read_csv('text.csv')\n",
    "target='Tag'\n",
    "text=df['Text']"
   ]
  },
  {
   "cell_type": "code",
   "execution_count": 981,
   "metadata": {},
   "outputs": [],
   "source": [
    "def text_prob(text,target): \n",
    "    prob={}\n",
    "    cls_words={}\n",
    "\n",
    "    for sentence,cls in zip(text,df[target]):\n",
    "        if cls not in cls_words:\n",
    "            cls_words[cls]=0\n",
    "        words=sentence.split()\n",
    "        if cls not in prob:\n",
    "            prob[cls]={}\n",
    "        for word in words:\n",
    "            if word.lower() not in prob[cls]:\n",
    "                prob[cls][word.lower()]=1\n",
    "            else:\n",
    "                prob[cls][word.lower()]+=1\n",
    "            cls_words[cls]+=1\n",
    "\n",
    "    for cls in prob:\n",
    "        for word in prob[cls]:\n",
    "            prob[cls][word]/=cls_words[cls]\n",
    "            \n",
    "    return prob\n"
   ]
  },
  {
   "cell_type": "code",
   "execution_count": 982,
   "metadata": {},
   "outputs": [
    {
     "data": {
      "text/plain": [
       "{'Sports': {'a': 0.18181818181818182,\n",
       "  'great': 0.09090909090909091,\n",
       "  'game': 0.18181818181818182,\n",
       "  'very': 0.09090909090909091,\n",
       "  'clean': 0.18181818181818182,\n",
       "  'match': 0.09090909090909091,\n",
       "  'but': 0.09090909090909091,\n",
       "  'forgettable': 0.09090909090909091},\n",
       " 'Not sports': {'the': 0.1111111111111111,\n",
       "  'election': 0.2222222222222222,\n",
       "  'was': 0.2222222222222222,\n",
       "  'over': 0.1111111111111111,\n",
       "  'it': 0.1111111111111111,\n",
       "  'a': 0.1111111111111111,\n",
       "  'close': 0.1111111111111111}}"
      ]
     },
     "execution_count": 982,
     "metadata": {},
     "output_type": "execute_result"
    }
   ],
   "source": [
    "priors=class_prob(df,target)\n",
    "prob=text_prob(text,target)\n",
    "prob"
   ]
  },
  {
   "cell_type": "code",
   "execution_count": 983,
   "metadata": {},
   "outputs": [],
   "source": [
    "def predict(priors,text_prob,sample):\n",
    "    result={}\n",
    "    words=sample.split()\n",
    "    for label in priors:\n",
    "        prob=priors[label]\n",
    "        for word in words:\n",
    "            if word in text_prob[label]:\n",
    "                prob*=text_prob[label][word]\n",
    "        result[label]=prob\n",
    "    return max(result,key=lambda x:result[x])"
   ]
  },
  {
   "cell_type": "code",
   "execution_count": 984,
   "metadata": {},
   "outputs": [
    {
     "data": {
      "text/plain": [
       "'Not sports'"
      ]
     },
     "execution_count": 984,
     "metadata": {},
     "output_type": "execute_result"
    }
   ],
   "source": [
    "sample=\"A very close game\"\n",
    "predict(priors,prob,sample)"
   ]
  }
 ],
 "metadata": {
  "kernelspec": {
   "display_name": "Python 3",
   "language": "python",
   "name": "python3"
  },
  "language_info": {
   "codemirror_mode": {
    "name": "ipython",
    "version": 3
   },
   "file_extension": ".py",
   "mimetype": "text/x-python",
   "name": "python",
   "nbconvert_exporter": "python",
   "pygments_lexer": "ipython3",
   "version": "3.8.10"
  }
 },
 "nbformat": 4,
 "nbformat_minor": 2
}
