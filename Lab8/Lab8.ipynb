{
 "cells": [
  {
   "cell_type": "code",
   "execution_count": 152,
   "id": "8d0fd35a",
   "metadata": {},
   "outputs": [],
   "source": [
    "import pandas as pd\n",
    "import numpy as np\n",
    "import matplotlib.pyplot as plt"
   ]
  },
  {
   "cell_type": "markdown",
   "id": "4284674e",
   "metadata": {},
   "source": [
    "Q-1. A Classification of Fruits\n",
    "\n",
    "You are provided with a dataset of fruits. Each fruit is characterized by two features: weight (in grams) and\n",
    "sweetness level (on a scale of 1 to 10). You want to classify a new fruit as either an \"Apple\" or an \"Orange\"\n",
    "based on these features using the KNN algorithm.\n",
    "\n",
    "Tasks:\n",
    "1. Implement the KNN algorithm manually with k=3 to classify a new fruit with a weight of 165 grams\n",
    "and sweetness level of 5.5.\n",
    "2. Calculate the Euclidean, Manhattan, and Minkowski distances between the new fruit and all the\n",
    "existing fruits in the dataset. Finally compare the calculated distances.\n",
    "3. Based on the k-nearest neighbors, determine the label for the new fruit.\n",
    "4. What is the effect of choosing different values of k (e.g., k=1, k=5) on the classification result?\n",
    "5. Implement the above using function python program without using scikit learn library.\n",
    "6. Plot the given samples, the Apple in Red color and the Orange in orange color. Also draw the\n",
    "decision boundary."
   ]
  },
  {
   "cell_type": "code",
   "execution_count": 153,
   "id": "92f1727d",
   "metadata": {},
   "outputs": [],
   "source": [
    "df=pd.read_csv('fruit.csv')\n",
    "data=df.to_numpy()"
   ]
  },
  {
   "cell_type": "code",
   "execution_count": 154,
   "id": "56c685ef",
   "metadata": {},
   "outputs": [],
   "source": [
    "def euclidean(x,y):\n",
    "    return np.sqrt((x[0]-y[0])**2+(x[1]-y[1])**2)\n"
   ]
  },
  {
   "cell_type": "code",
   "execution_count": 155,
   "id": "e312eeca",
   "metadata": {},
   "outputs": [],
   "source": [
    "def manhattan(x,y):\n",
    "    return abs(x[0]-y[0])+abs(x[1]-y[1])"
   ]
  },
  {
   "cell_type": "code",
   "execution_count": 156,
   "id": "5f76b710",
   "metadata": {},
   "outputs": [],
   "source": [
    "def minkowski(x,y,c):\n",
    "    return (abs(x[0]-y[0])**c+abs(x[1]-y[1])**c)**(1/c)"
   ]
  },
  {
   "cell_type": "code",
   "execution_count": 157,
   "id": "2dd3583f",
   "metadata": {},
   "outputs": [],
   "source": [
    "def distances(data,sample):\n",
    "    dists=[]\n",
    "    idx=1\n",
    "    for point in data:\n",
    "        dists.append([idx,euclidean(point[1:3],sample), manhattan(point[1:3],sample), minkowski(point[1:3],\n",
    "                                                                                                    sample,3)])\n",
    "        idx+=1\n",
    "    dists=np.array(dists)\n",
    "    print(\"   ID         Euclidean   Manhattan   Minkowski\")\n",
    "    print(dists)\n",
    "    return dists"
   ]
  },
  {
   "cell_type": "code",
   "execution_count": 158,
   "id": "a9d34f06",
   "metadata": {},
   "outputs": [],
   "source": [
    "def knn(k,data,sample):\n",
    "    dists=distances(data,sample)\n",
    "    dist=dists[:,1:2]\n",
    "    order=np.array(sorted(np.hstack((data,dist)),key=lambda x: x[4])[:k])\n",
    "    #print(order)\n",
    "    labels=order[:,3]\n",
    "    unique, counts = np.unique(labels, return_counts=True) \n",
    "    return unique[np.argmax(counts)] \n"
   ]
  },
  {
   "cell_type": "code",
   "execution_count": 159,
   "id": "c0ed0bad",
   "metadata": {},
   "outputs": [],
   "source": [
    "weight=165\n",
    "sweetness=5.5"
   ]
  },
  {
   "cell_type": "markdown",
   "id": "8aacced8",
   "metadata": {},
   "source": [
    "## k=3"
   ]
  },
  {
   "cell_type": "code",
   "execution_count": 160,
   "id": "575d8887",
   "metadata": {},
   "outputs": [
    {
     "name": "stdout",
     "output_type": "stream",
     "text": [
      "   ID         Euclidean   Manhattan   Minkowski\n",
      "[[ 1.         15.07481343 16.5        15.00499833]\n",
      " [ 2.         35.00357125 35.5        35.00003401]\n",
      " [ 3.         15.07481343 16.5        15.00499833]\n",
      " [ 4.          5.02493781  5.5         5.00166611]\n",
      " [ 5.          5.02493781  5.5         5.00166611]\n",
      " [ 6.         25.12468905 27.5        25.00833056]]\n"
     ]
    }
   ],
   "source": [
    "k=3\n",
    "pred=knn(k,data,[weight,sweetness])"
   ]
  },
  {
   "cell_type": "code",
   "execution_count": 161,
   "metadata": {},
   "outputs": [
    {
     "name": "stdout",
     "output_type": "stream",
     "text": [
      "Sample belongs to class: Apple\n"
     ]
    }
   ],
   "source": [
    "print(\"Sample belongs to class:\",pred)"
   ]
  },
  {
   "cell_type": "markdown",
   "id": "bef92360",
   "metadata": {},
   "source": [
    "## k=1"
   ]
  },
  {
   "cell_type": "code",
   "execution_count": 162,
   "id": "b20415ca",
   "metadata": {},
   "outputs": [
    {
     "name": "stdout",
     "output_type": "stream",
     "text": [
      "   ID         Euclidean   Manhattan   Minkowski\n",
      "[[ 1.         15.07481343 16.5        15.00499833]\n",
      " [ 2.         35.00357125 35.5        35.00003401]\n",
      " [ 3.         15.07481343 16.5        15.00499833]\n",
      " [ 4.          5.02493781  5.5         5.00166611]\n",
      " [ 5.          5.02493781  5.5         5.00166611]\n",
      " [ 6.         25.12468905 27.5        25.00833056]]\n"
     ]
    }
   ],
   "source": [
    "k=1\n",
    "pred=knn(k,data,[weight,sweetness])"
   ]
  },
  {
   "cell_type": "code",
   "execution_count": 163,
   "id": "a228a5a2",
   "metadata": {},
   "outputs": [
    {
     "name": "stdout",
     "output_type": "stream",
     "text": [
      "Sample belongs to class: Orange\n"
     ]
    }
   ],
   "source": [
    "print(\"Sample belongs to class:\",pred)"
   ]
  },
  {
   "cell_type": "markdown",
   "id": "7abf4efa",
   "metadata": {},
   "source": [
    "## k=5"
   ]
  },
  {
   "cell_type": "code",
   "execution_count": 164,
   "id": "f4323f5a",
   "metadata": {},
   "outputs": [
    {
     "name": "stdout",
     "output_type": "stream",
     "text": [
      "   ID         Euclidean   Manhattan   Minkowski\n",
      "[[ 1.         15.07481343 16.5        15.00499833]\n",
      " [ 2.         35.00357125 35.5        35.00003401]\n",
      " [ 3.         15.07481343 16.5        15.00499833]\n",
      " [ 4.          5.02493781  5.5         5.00166611]\n",
      " [ 5.          5.02493781  5.5         5.00166611]\n",
      " [ 6.         25.12468905 27.5        25.00833056]]\n"
     ]
    }
   ],
   "source": [
    "k=5\n",
    "pred=knn(k,data,[weight,sweetness])"
   ]
  },
  {
   "cell_type": "code",
   "execution_count": 165,
   "id": "ecd77eae",
   "metadata": {},
   "outputs": [
    {
     "name": "stdout",
     "output_type": "stream",
     "text": [
      "Sample belongs to class: Orange\n"
     ]
    }
   ],
   "source": [
    "print(\"Sample belongs to class:\",pred)"
   ]
  },
  {
   "cell_type": "markdown",
   "id": "ec5b4736",
   "metadata": {},
   "source": [
    "Q-1. B Classification of Fruits\n",
    "\n",
    "Implement the Python code for Q-1. A using the scikit-learn library. Plot the given samples, using red for\n",
    "\"Apple\" and orange for \"Orange.\" Also, plot the decision boundary. Calculate the distances using Euclidean,\n",
    "Manhattan, and Minkowski metrics, and compare the results."
   ]
  },
  {
   "cell_type": "code",
   "execution_count": 166,
   "id": "fae0ff65",
   "metadata": {},
   "outputs": [],
   "source": [
    "from sklearn.neighbors import KNeighborsClassifier"
   ]
  },
  {
   "cell_type": "code",
   "execution_count": 167,
   "id": "905978b2",
   "metadata": {},
   "outputs": [],
   "source": [
    "neigh = KNeighborsClassifier()\n",
    "\n",
    "x=data[:,1:3].astype(float)\n",
    "y=data[:,3]"
   ]
  },
  {
   "cell_type": "code",
   "execution_count": 168,
   "id": "5026963a",
   "metadata": {},
   "outputs": [
    {
     "data": {
      "text/html": [
       "<style>#sk-container-id-6 {color: black;}#sk-container-id-6 pre{padding: 0;}#sk-container-id-6 div.sk-toggleable {background-color: white;}#sk-container-id-6 label.sk-toggleable__label {cursor: pointer;display: block;width: 100%;margin-bottom: 0;padding: 0.3em;box-sizing: border-box;text-align: center;}#sk-container-id-6 label.sk-toggleable__label-arrow:before {content: \"▸\";float: left;margin-right: 0.25em;color: #696969;}#sk-container-id-6 label.sk-toggleable__label-arrow:hover:before {color: black;}#sk-container-id-6 div.sk-estimator:hover label.sk-toggleable__label-arrow:before {color: black;}#sk-container-id-6 div.sk-toggleable__content {max-height: 0;max-width: 0;overflow: hidden;text-align: left;background-color: #f0f8ff;}#sk-container-id-6 div.sk-toggleable__content pre {margin: 0.2em;color: black;border-radius: 0.25em;background-color: #f0f8ff;}#sk-container-id-6 input.sk-toggleable__control:checked~div.sk-toggleable__content {max-height: 200px;max-width: 100%;overflow: auto;}#sk-container-id-6 input.sk-toggleable__control:checked~label.sk-toggleable__label-arrow:before {content: \"▾\";}#sk-container-id-6 div.sk-estimator input.sk-toggleable__control:checked~label.sk-toggleable__label {background-color: #d4ebff;}#sk-container-id-6 div.sk-label input.sk-toggleable__control:checked~label.sk-toggleable__label {background-color: #d4ebff;}#sk-container-id-6 input.sk-hidden--visually {border: 0;clip: rect(1px 1px 1px 1px);clip: rect(1px, 1px, 1px, 1px);height: 1px;margin: -1px;overflow: hidden;padding: 0;position: absolute;width: 1px;}#sk-container-id-6 div.sk-estimator {font-family: monospace;background-color: #f0f8ff;border: 1px dotted black;border-radius: 0.25em;box-sizing: border-box;margin-bottom: 0.5em;}#sk-container-id-6 div.sk-estimator:hover {background-color: #d4ebff;}#sk-container-id-6 div.sk-parallel-item::after {content: \"\";width: 100%;border-bottom: 1px solid gray;flex-grow: 1;}#sk-container-id-6 div.sk-label:hover label.sk-toggleable__label {background-color: #d4ebff;}#sk-container-id-6 div.sk-serial::before {content: \"\";position: absolute;border-left: 1px solid gray;box-sizing: border-box;top: 0;bottom: 0;left: 50%;z-index: 0;}#sk-container-id-6 div.sk-serial {display: flex;flex-direction: column;align-items: center;background-color: white;padding-right: 0.2em;padding-left: 0.2em;position: relative;}#sk-container-id-6 div.sk-item {position: relative;z-index: 1;}#sk-container-id-6 div.sk-parallel {display: flex;align-items: stretch;justify-content: center;background-color: white;position: relative;}#sk-container-id-6 div.sk-item::before, #sk-container-id-6 div.sk-parallel-item::before {content: \"\";position: absolute;border-left: 1px solid gray;box-sizing: border-box;top: 0;bottom: 0;left: 50%;z-index: -1;}#sk-container-id-6 div.sk-parallel-item {display: flex;flex-direction: column;z-index: 1;position: relative;background-color: white;}#sk-container-id-6 div.sk-parallel-item:first-child::after {align-self: flex-end;width: 50%;}#sk-container-id-6 div.sk-parallel-item:last-child::after {align-self: flex-start;width: 50%;}#sk-container-id-6 div.sk-parallel-item:only-child::after {width: 0;}#sk-container-id-6 div.sk-dashed-wrapped {border: 1px dashed gray;margin: 0 0.4em 0.5em 0.4em;box-sizing: border-box;padding-bottom: 0.4em;background-color: white;}#sk-container-id-6 div.sk-label label {font-family: monospace;font-weight: bold;display: inline-block;line-height: 1.2em;}#sk-container-id-6 div.sk-label-container {text-align: center;}#sk-container-id-6 div.sk-container {/* jupyter's `normalize.less` sets `[hidden] { display: none; }` but bootstrap.min.css set `[hidden] { display: none !important; }` so we also need the `!important` here to be able to override the default hidden behavior on the sphinx rendered scikit-learn.org. See: https://github.com/scikit-learn/scikit-learn/issues/21755 */display: inline-block !important;position: relative;}#sk-container-id-6 div.sk-text-repr-fallback {display: none;}</style><div id=\"sk-container-id-6\" class=\"sk-top-container\"><div class=\"sk-text-repr-fallback\"><pre>KNeighborsClassifier()</pre><b>In a Jupyter environment, please rerun this cell to show the HTML representation or trust the notebook. <br />On GitHub, the HTML representation is unable to render, please try loading this page with nbviewer.org.</b></div><div class=\"sk-container\" hidden><div class=\"sk-item\"><div class=\"sk-estimator sk-toggleable\"><input class=\"sk-toggleable__control sk-hidden--visually\" id=\"sk-estimator-id-6\" type=\"checkbox\" checked><label for=\"sk-estimator-id-6\" class=\"sk-toggleable__label sk-toggleable__label-arrow\">KNeighborsClassifier</label><div class=\"sk-toggleable__content\"><pre>KNeighborsClassifier()</pre></div></div></div></div></div>"
      ],
      "text/plain": [
       "KNeighborsClassifier()"
      ]
     },
     "execution_count": 168,
     "metadata": {},
     "output_type": "execute_result"
    }
   ],
   "source": [
    "neigh.fit(x, y)"
   ]
  },
  {
   "cell_type": "code",
   "execution_count": 169,
   "id": "7d09aed6",
   "metadata": {},
   "outputs": [
    {
     "name": "stdout",
     "output_type": "stream",
     "text": [
      "Predicted class: Orange\n"
     ]
    }
   ],
   "source": [
    "sample = np.array([[weight,sweetness]])  \n",
    "prediction = neigh.predict(sample)\n",
    "print(f'Predicted class: {prediction[0]}')"
   ]
  },
  {
   "cell_type": "code",
   "execution_count": 179,
   "id": "2fba821c",
   "metadata": {},
   "outputs": [
    {
     "data": {
      "text/plain": [
       "<matplotlib.collections.PathCollection at 0x7f14e4e76e80>"
      ]
     },
     "execution_count": 179,
     "metadata": {},
     "output_type": "execute_result"
    },
    {
     "data": {
      "image/png": "[encoded data removed]",
      "text/plain": [
       "<Figure size 640x480 with 1 Axes>"
      ]
     },
     "metadata": {},
     "output_type": "display_data"
    }
   ],
   "source": [
    "x1_min, x1_max = x[:, 0].min() - 1, x[:, 0].max() + 1\n",
    "x2_min, x2_max = x[:, 1].min() - 1, x[:, 1].max() + 1\n",
    "xx1, xx2 = np.meshgrid(np.arange(x1_min, x1_max, 0.02), np.arange(x2_min, x2_max, 0.02))\n",
    "\n",
    "distances = np.zeros(xx1.shape)\n",
    "for i in range(xx1.shape[0]):\n",
    "    for j in range(xx1.shape[1]):\n",
    "        point = [xx1[i, j], xx2[i, j]]\n",
    "        dists =[euclidean(point, p) for p in x]\n",
    "        distances[i, j] = np.min(dists)\n",
    "\n",
    "plt.contourf(xx1, xx2, distances, levels=15, alpha=0.4, cmap=plt.cm.RdYlBu)\n",
    "y_col=(y!=y[0]).astype(int)\n",
    "plt.scatter(x[:, 0], x[:, 1], c=y_col, cmap=plt.cm.RdYlBu, s=100)"
   ]
  },
  {
   "cell_type": "markdown",
   "id": "19302cca",
   "metadata": {},
   "source": [
    "Q-2. A Medical Diagnosis Decision\n",
    "\n",
    "A dataset is provided to classify patients as \"Healthy\" or \"Sick\" based on their Age, Blood Pressure, and\n",
    "Cholesterol levels.\n",
    "\n",
    "Tasks:\n",
    "1. Calculate the entropy for the target variable (Diagnosis).\n",
    "2. Calculate the information gain for each feature (Age, Blood Pressure, Cholesterol).3. Using the ID3 algorithm, decide which feature should be chosen as the root node for the decision\n",
    "tree.\n",
    "4. Build the decision tree and explain the first few splits.\n",
    "5. Predict whether a 50-year-old patient with low blood pressure and normal cholesterol is healthy or\n",
    "sick using the tree you built.\n",
    "6. Implement the above using function python program without using scikit learn library."
   ]
  },
  {
   "cell_type": "code",
   "execution_count": 171,
   "id": "f81cb765",
   "metadata": {},
   "outputs": [
    {
     "data": {
      "text/html": [
       "<div>\n",
       "<style scoped>\n",
       "    .dataframe tbody tr th:only-of-type {\n",
       "        vertical-align: middle;\n",
       "    }\n",
       "\n",
       "    .dataframe tbody tr th {\n",
       "        vertical-align: top;\n",
       "    }\n",
       "\n",
       "    .dataframe thead th {\n",
       "        text-align: right;\n",
       "    }\n",
       "</style>\n",
       "<table border=\"1\" class=\"dataframe\">\n",
       "  <thead>\n",
       "    <tr style=\"text-align: right;\">\n",
       "      <th></th>\n",
       "      <th>Patient ID</th>\n",
       "      <th>Age</th>\n",
       "      <th>Blood Pressure</th>\n",
       "      <th>Cholesterol</th>\n",
       "      <th>Diagnosis</th>\n",
       "    </tr>\n",
       "  </thead>\n",
       "  <tbody>\n",
       "    <tr>\n",
       "      <th>0</th>\n",
       "      <td>1</td>\n",
       "      <td>30</td>\n",
       "      <td>High</td>\n",
       "      <td>High</td>\n",
       "      <td>Sick</td>\n",
       "    </tr>\n",
       "    <tr>\n",
       "      <th>1</th>\n",
       "      <td>2</td>\n",
       "      <td>45</td>\n",
       "      <td>Low</td>\n",
       "      <td>Normal</td>\n",
       "      <td>Healthy</td>\n",
       "    </tr>\n",
       "    <tr>\n",
       "      <th>2</th>\n",
       "      <td>3</td>\n",
       "      <td>50</td>\n",
       "      <td>High</td>\n",
       "      <td>High</td>\n",
       "      <td>Sick</td>\n",
       "    </tr>\n",
       "    <tr>\n",
       "      <th>3</th>\n",
       "      <td>4</td>\n",
       "      <td>35</td>\n",
       "      <td>Low</td>\n",
       "      <td>Normal</td>\n",
       "      <td>Healthy</td>\n",
       "    </tr>\n",
       "    <tr>\n",
       "      <th>4</th>\n",
       "      <td>5</td>\n",
       "      <td>60</td>\n",
       "      <td>High</td>\n",
       "      <td>High</td>\n",
       "      <td>Sick</td>\n",
       "    </tr>\n",
       "    <tr>\n",
       "      <th>5</th>\n",
       "      <td>6</td>\n",
       "      <td>55</td>\n",
       "      <td>Low</td>\n",
       "      <td>Normal</td>\n",
       "      <td>Healthy</td>\n",
       "    </tr>\n",
       "    <tr>\n",
       "      <th>6</th>\n",
       "      <td>7</td>\n",
       "      <td>40</td>\n",
       "      <td>High</td>\n",
       "      <td>High</td>\n",
       "      <td>Sick</td>\n",
       "    </tr>\n",
       "    <tr>\n",
       "      <th>7</th>\n",
       "      <td>8</td>\n",
       "      <td>25</td>\n",
       "      <td>Low</td>\n",
       "      <td>Normal</td>\n",
       "      <td>Healthy</td>\n",
       "    </tr>\n",
       "    <tr>\n",
       "      <th>8</th>\n",
       "      <td>9</td>\n",
       "      <td>65</td>\n",
       "      <td>High</td>\n",
       "      <td>High</td>\n",
       "      <td>Sick</td>\n",
       "    </tr>\n",
       "    <tr>\n",
       "      <th>9</th>\n",
       "      <td>10</td>\n",
       "      <td>45</td>\n",
       "      <td>Low</td>\n",
       "      <td>Normal</td>\n",
       "      <td>Healthy</td>\n",
       "    </tr>\n",
       "  </tbody>\n",
       "</table>\n",
       "</div>"
      ],
      "text/plain": [
       "   Patient ID  Age Blood Pressure Cholesterol Diagnosis\n",
       "0           1   30           High        High      Sick\n",
       "1           2   45            Low      Normal   Healthy\n",
       "2           3   50           High        High      Sick\n",
       "3           4   35            Low      Normal   Healthy\n",
       "4           5   60           High        High      Sick\n",
       "5           6   55            Low      Normal   Healthy\n",
       "6           7   40           High        High      Sick\n",
       "7           8   25            Low      Normal   Healthy\n",
       "8           9   65           High        High      Sick\n",
       "9          10   45            Low      Normal   Healthy"
      ]
     },
     "execution_count": 171,
     "metadata": {},
     "output_type": "execute_result"
    }
   ],
   "source": [
    "samples=pd.read_csv('sick.csv')\n",
    "samples"
   ]
  },
  {
   "cell_type": "code",
   "execution_count": 172,
   "id": "0741d37e",
   "metadata": {},
   "outputs": [
    {
     "name": "stdout",
     "output_type": "stream",
     "text": [
      "Entropy of Diagnosis: 1.0\n"
     ]
    }
   ],
   "source": [
    "def entropy(data, col):\n",
    "    vals,cnts = np.unique(data[col],return_counts=True)\n",
    "    e=sum((-cnt/len(data[col]))*np.log2(cnt/len(data[col])) for cnt in cnts)\n",
    "    return e\n",
    "e=entropy(samples,'Diagnosis')\n",
    "print(f'Entropy of Diagnosis:',e)"
   ]
  },
  {
   "cell_type": "code",
   "execution_count": 173,
   "id": "96c3654c",
   "metadata": {},
   "outputs": [
    {
     "name": "stdout",
     "output_type": "stream",
     "text": [
      "Information Gain for Age: 1.0000\n",
      "Information Gain for Blood Pressure: 1.0000\n",
      "Information Gain for Cholesterol: 1.0000\n"
     ]
    }
   ],
   "source": [
    "def information_gain(data, split_col, target_col):\n",
    "    e = entropy(data,target_col)\n",
    "    vals, cnts = np.unique(data[split_col], return_counts=True)\n",
    "    weighted_e = sum((cnts[i] / np.sum(cnts)) * entropy(data[data[split_col] == vals[i]], target_col) \n",
    "                        for i in range(len(vals)))    \n",
    "    return e - weighted_e\n",
    "\n",
    "ig_age = information_gain(samples, 'Age', 'Diagnosis')\n",
    "ig_bp = information_gain(samples, 'Blood Pressure', 'Diagnosis')\n",
    "ig_chol = information_gain(samples, 'Cholesterol', 'Diagnosis')\n",
    "\n",
    "print(f'Information Gain for Age: {ig_age:.4f}')\n",
    "print(f'Information Gain for Blood Pressure: {ig_bp:.4f}')\n",
    "print(f'Information Gain for Cholesterol: {ig_chol:.4f}')"
   ]
  },
  {
   "cell_type": "code",
   "execution_count": 174,
   "id": "2893989f",
   "metadata": {},
   "outputs": [],
   "source": [
    "def best_feature(data, target_col):\n",
    "    features = data.columns[1:-1]  \n",
    "    gains = {feature: information_gain(data, feature, target_col) for feature in features}\n",
    "    return max(gains, key=gains.get)"
   ]
  },
  {
   "cell_type": "code",
   "execution_count": 175,
   "id": "fdb723e7",
   "metadata": {},
   "outputs": [
    {
     "name": "stdout",
     "output_type": "stream",
     "text": [
      "Decision Tree Structure:\n",
      "{'Age': {25: 'Healthy', 30: 'Sick', 35: 'Healthy', 40: 'Sick', 45: 'Healthy', 50: 'Sick', 55: 'Healthy', 60: 'Sick', 65: 'Sick'}}\n"
     ]
    }
   ],
   "source": [
    "def build_tree(data, target_col):\n",
    "    if len(np.unique(data[target_col])) == 1:\n",
    "        return data[target_col].iloc[0]\n",
    "    \n",
    "    if len(data.columns) == 1:\n",
    "        return data[target_col].mode()[0]\n",
    "    \n",
    "    feature = best_feature(data, target_col)\n",
    "    tree = {feature: {}}\n",
    "    \n",
    "    for value in np.unique(data[feature]):\n",
    "        subset = data[data[feature] == value]\n",
    "        tree[feature][value] = build_tree(subset.drop(columns=feature), target_col)\n",
    "    \n",
    "    return tree\n",
    "decision_tree = build_tree(samples, 'Diagnosis')\n",
    "print(\"Decision Tree Structure:\")\n",
    "print(decision_tree)"
   ]
  },
  {
   "cell_type": "code",
   "execution_count": 176,
   "id": "3ed9a678",
   "metadata": {},
   "outputs": [],
   "source": [
    "def predict(tree, sample):\n",
    "    if not isinstance(tree, dict):\n",
    "        return tree \n",
    "    feature = next(iter(tree))\n",
    "    value = sample[feature]\n",
    "    if value in tree[feature]:\n",
    "        return predict(tree[feature][value], sample)\n",
    "    else:\n",
    "        return \"Unknown\" "
   ]
  },
  {
   "cell_type": "code",
   "execution_count": 177,
   "id": "8f510bb9",
   "metadata": {},
   "outputs": [
    {
     "name": "stdout",
     "output_type": "stream",
     "text": [
      "Prediction for the sample: Sick\n"
     ]
    }
   ],
   "source": [
    "sample = {'Age': 50, 'BloodPressure': 'Low', 'Cholesterol': 'Normal'}\n",
    "sample_df = pd.DataFrame([sample])\n",
    "\n",
    "prediction = predict(decision_tree, sample_df.iloc[0])\n",
    "print(f'Prediction for the sample: {prediction}')"
   ]
  }
 ],
 "metadata": {
  "kernelspec": {
   "display_name": "Python 3 (ipykernel)",
   "language": "python",
   "name": "python3"
  },
  "language_info": {
   "codemirror_mode": {
    "name": "ipython",
    "version": 3
   },
   "file_extension": ".py",
   "mimetype": "text/x-python",
   "name": "python",
   "nbconvert_exporter": "python",
   "pygments_lexer": "ipython3",
   "version": "3.8.10"
  }
 },
 "nbformat": 4,
 "nbformat_minor": 5
}
