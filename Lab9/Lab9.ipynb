{
 "cells": [
  {
   "cell_type": "code",
   "execution_count": 1,
   "id": "265bf12b",
   "metadata": {},
   "outputs": [],
   "source": [
    "import pandas as pd\n",
    "import numpy as np"
   ]
  },
  {
   "cell_type": "markdown",
   "id": "dd04d67a",
   "metadata": {},
   "source": [
    "1. Write a python function program to demonstrate the working of the decision tree based C4.5 algorithms\n",
    "without using scikit-learn library. Use following data set for building the decision tree and apply this\n",
    "knowledge to classify a new sample.\n",
    "The dataset has three attributes: Outlook (Sunny, Overcast, Rainy), Temperature, Humidity and Wind (Weak,\n",
    "Strong). The target attribute is Play Tennis (Yes/No)."
   ]
  },
  {
   "cell_type": "code",
   "execution_count": 2,
   "id": "b9137e40",
   "metadata": {},
   "outputs": [
    {
     "data": {
      "text/html": [
       "<div>\n",
       "<style scoped>\n",
       "    .dataframe tbody tr th:only-of-type {\n",
       "        vertical-align: middle;\n",
       "    }\n",
       "\n",
       "    .dataframe tbody tr th {\n",
       "        vertical-align: top;\n",
       "    }\n",
       "\n",
       "    .dataframe thead th {\n",
       "        text-align: right;\n",
       "    }\n",
       "</style>\n",
       "<table border=\"1\" class=\"dataframe\">\n",
       "  <thead>\n",
       "    <tr style=\"text-align: right;\">\n",
       "      <th></th>\n",
       "      <th>Outlook</th>\n",
       "      <th>Temp.</th>\n",
       "      <th>Humidity</th>\n",
       "      <th>Wind</th>\n",
       "      <th>Decision</th>\n",
       "    </tr>\n",
       "  </thead>\n",
       "  <tbody>\n",
       "    <tr>\n",
       "      <th>0</th>\n",
       "      <td>Sunny</td>\n",
       "      <td>85</td>\n",
       "      <td>85</td>\n",
       "      <td>Weak</td>\n",
       "      <td>No</td>\n",
       "    </tr>\n",
       "    <tr>\n",
       "      <th>1</th>\n",
       "      <td>Sunny</td>\n",
       "      <td>80</td>\n",
       "      <td>90</td>\n",
       "      <td>Strong</td>\n",
       "      <td>No</td>\n",
       "    </tr>\n",
       "    <tr>\n",
       "      <th>2</th>\n",
       "      <td>Overcast</td>\n",
       "      <td>83</td>\n",
       "      <td>78</td>\n",
       "      <td>Weak</td>\n",
       "      <td>Yes</td>\n",
       "    </tr>\n",
       "    <tr>\n",
       "      <th>3</th>\n",
       "      <td>Rain</td>\n",
       "      <td>70</td>\n",
       "      <td>96</td>\n",
       "      <td>Weak</td>\n",
       "      <td>Yes</td>\n",
       "    </tr>\n",
       "    <tr>\n",
       "      <th>4</th>\n",
       "      <td>Rain</td>\n",
       "      <td>68</td>\n",
       "      <td>80</td>\n",
       "      <td>Weak</td>\n",
       "      <td>Yes</td>\n",
       "    </tr>\n",
       "    <tr>\n",
       "      <th>5</th>\n",
       "      <td>Rain</td>\n",
       "      <td>65</td>\n",
       "      <td>70</td>\n",
       "      <td>Strong</td>\n",
       "      <td>No</td>\n",
       "    </tr>\n",
       "    <tr>\n",
       "      <th>6</th>\n",
       "      <td>Overcast</td>\n",
       "      <td>64</td>\n",
       "      <td>65</td>\n",
       "      <td>Strong</td>\n",
       "      <td>Yes</td>\n",
       "    </tr>\n",
       "    <tr>\n",
       "      <th>7</th>\n",
       "      <td>Sunny</td>\n",
       "      <td>72</td>\n",
       "      <td>95</td>\n",
       "      <td>Weak</td>\n",
       "      <td>No</td>\n",
       "    </tr>\n",
       "    <tr>\n",
       "      <th>8</th>\n",
       "      <td>Sunny</td>\n",
       "      <td>69</td>\n",
       "      <td>70</td>\n",
       "      <td>Weak</td>\n",
       "      <td>Yes</td>\n",
       "    </tr>\n",
       "    <tr>\n",
       "      <th>9</th>\n",
       "      <td>Rain</td>\n",
       "      <td>75</td>\n",
       "      <td>80</td>\n",
       "      <td>Weak</td>\n",
       "      <td>Yes</td>\n",
       "    </tr>\n",
       "    <tr>\n",
       "      <th>10</th>\n",
       "      <td>Sunny</td>\n",
       "      <td>75</td>\n",
       "      <td>70</td>\n",
       "      <td>Strong</td>\n",
       "      <td>Yes</td>\n",
       "    </tr>\n",
       "    <tr>\n",
       "      <th>11</th>\n",
       "      <td>Overcast</td>\n",
       "      <td>72</td>\n",
       "      <td>90</td>\n",
       "      <td>Strong</td>\n",
       "      <td>Yes</td>\n",
       "    </tr>\n",
       "    <tr>\n",
       "      <th>12</th>\n",
       "      <td>Overcast</td>\n",
       "      <td>81</td>\n",
       "      <td>75</td>\n",
       "      <td>Weak</td>\n",
       "      <td>Yes</td>\n",
       "    </tr>\n",
       "    <tr>\n",
       "      <th>13</th>\n",
       "      <td>Rain</td>\n",
       "      <td>71</td>\n",
       "      <td>80</td>\n",
       "      <td>Strong</td>\n",
       "      <td>No</td>\n",
       "    </tr>\n",
       "  </tbody>\n",
       "</table>\n",
       "</div>"
      ],
      "text/plain": [
       "     Outlook  Temp.  Humidity    Wind Decision\n",
       "0      Sunny     85        85    Weak       No\n",
       "1      Sunny     80        90  Strong       No\n",
       "2   Overcast     83        78    Weak      Yes\n",
       "3       Rain     70        96    Weak      Yes\n",
       "4       Rain     68        80    Weak      Yes\n",
       "5       Rain     65        70  Strong       No\n",
       "6   Overcast     64        65  Strong      Yes\n",
       "7      Sunny     72        95    Weak       No\n",
       "8      Sunny     69        70    Weak      Yes\n",
       "9       Rain     75        80    Weak      Yes\n",
       "10     Sunny     75        70  Strong      Yes\n",
       "11  Overcast     72        90  Strong      Yes\n",
       "12  Overcast     81        75    Weak      Yes\n",
       "13      Rain     71        80  Strong       No"
      ]
     },
     "execution_count": 2,
     "metadata": {},
     "output_type": "execute_result"
    }
   ],
   "source": [
    "df=pd.read_csv('data.csv').iloc[:,1:]\n",
    "df"
   ]
  },
  {
   "cell_type": "code",
   "execution_count": 3,
   "id": "7c119c43",
   "metadata": {},
   "outputs": [],
   "source": [
    "def entropy(data, col):\n",
    "    vals,cnts = np.unique(data[col],return_counts=True)\n",
    "    e=sum((-cnt/len(data[col]))*np.log2(cnt/len(data[col])) for cnt in cnts)\n",
    "    return e"
   ]
  },
  {
   "cell_type": "code",
   "execution_count": 4,
   "id": "abef4e63",
   "metadata": {},
   "outputs": [],
   "source": [
    "def information_gain(data, split_col, target):\n",
    "    e = entropy(data,target)\n",
    "    vals, cnts = np.unique(data[split_col], return_counts=True)\n",
    "    weighted_e = sum((cnts[i] / np.sum(cnts)) * entropy(data[data[split_col] == vals[i]], target) \n",
    "                        for i in range(len(vals)))    \n",
    "    return e - weighted_e"
   ]
  },
  {
   "cell_type": "code",
   "execution_count": 5,
   "id": "28036cd6",
   "metadata": {},
   "outputs": [],
   "source": [
    "def gain_ratio(data, split_col, target):\n",
    "    gain=information_gain(data, split_col, target)\n",
    "    info=entropy(data, split_col)\n",
    "    return gain/(info + 1e-9)"
   ]
  },
  {
   "cell_type": "code",
   "execution_count": 6,
   "id": "362beaf4",
   "metadata": {},
   "outputs": [
    {
     "data": {
      "text/plain": [
       "'Temp.'"
      ]
     },
     "execution_count": 6,
     "metadata": {},
     "output_type": "execute_result"
    }
   ],
   "source": [
    "def best_feature(data, target_col):\n",
    "    features = data.columns[:-1]  \n",
    "    gains = {feature: gain_ratio(data, feature, target_col) for feature in features}\n",
    "    return max(gains, key=gains.get)\n",
    "best_feature(df,'Decision')"
   ]
  },
  {
   "cell_type": "code",
   "execution_count": 7,
   "id": "8982b3be",
   "metadata": {},
   "outputs": [],
   "source": [
    "def C45_tree(data, target_col):\n",
    "    if len(data[target_col].unique()) == 1:\n",
    "        return data[target_col].iloc[0]\n",
    "    if data.shape[1] == 1:\n",
    "        return data[target_col].mode()[0]\n",
    "\n",
    "    feature = best_feature(data, target_col)\n",
    "    tree = {feature: {}}\n",
    "\n",
    "    if data[feature].dtype == 'object':\n",
    "        for val in data[feature].unique():\n",
    "            subset = data[data[feature] == val]\n",
    "            tree[feature][val] = C45_tree(subset.drop(columns=feature), target_col)\n",
    "    else: \n",
    "        thresholds = np.sort(data[feature].unique())\n",
    "        for split in thresholds[:-1]:\n",
    "            left = data[data[feature] <= split]\n",
    "            right = data[data[feature] > split]\n",
    "            if not left.empty:\n",
    "                tree[feature][f\"<= {split}\"] = C45_tree(left.drop(columns=feature), target_col)\n",
    "            if not right.empty:\n",
    "                tree[feature][f\"> {split}\"] = C45_tree(right.drop(columns=feature), target_col)\n",
    "\n",
    "    return tree"
   ]
  },
  {
   "cell_type": "code",
   "execution_count": 8,
   "id": "44dc73ef",
   "metadata": {},
   "outputs": [
    {
     "data": {
      "text/plain": [
       "{'Temp.': {'<= 64': 'Yes',\n",
       "  '> 64': {'Outlook': {'Sunny': {'Humidity': {'<= 70': 'Yes',\n",
       "      '> 70': 'No',\n",
       "      '<= 85': {'Wind': {'Weak': 'No', 'Strong': 'Yes'}},\n",
       "      '> 85': 'No',\n",
       "      '<= 90': {'Wind': {'Weak': 'No', 'Strong': 'No'}},\n",
       "      '> 90': 'No'}},\n",
       "    'Overcast': 'Yes',\n",
       "    'Rain': {'Wind': {'Weak': 'Yes', 'Strong': 'No'}}}},\n",
       "  '<= 65': {'Outlook': {'Rain': 'No', 'Overcast': 'Yes'}},\n",
       "  '> 65': {'Humidity': {'<= 70': 'Yes',\n",
       "    '> 70': {'Outlook': {'Sunny': 'No',\n",
       "      'Overcast': 'Yes',\n",
       "      'Rain': {'Wind': {'Weak': 'Yes', 'Strong': 'No'}}}},\n",
       "    '<= 75': 'Yes',\n",
       "    '> 75': {'Outlook': {'Sunny': 'No',\n",
       "      'Overcast': 'Yes',\n",
       "      'Rain': {'Wind': {'Weak': 'Yes', 'Strong': 'No'}}}},\n",
       "    '<= 78': 'Yes',\n",
       "    '> 78': {'Outlook': {'Sunny': 'No',\n",
       "      'Rain': {'Wind': {'Weak': 'Yes', 'Strong': 'No'}},\n",
       "      'Overcast': 'Yes'}},\n",
       "    '<= 80': {'Wind': {'Weak': 'Yes',\n",
       "      'Strong': {'Outlook': {'Sunny': 'Yes', 'Rain': 'No'}}}},\n",
       "    '> 80': {'Outlook': {'Sunny': 'No', 'Rain': 'Yes', 'Overcast': 'Yes'}},\n",
       "    '<= 85': {'Wind': {'Weak': {'Outlook': {'Sunny': 'No',\n",
       "        'Overcast': 'Yes',\n",
       "        'Rain': 'Yes'}},\n",
       "      'Strong': {'Outlook': {'Sunny': 'Yes', 'Rain': 'No'}}}},\n",
       "    '> 85': {'Outlook': {'Sunny': 'No', 'Rain': 'Yes', 'Overcast': 'Yes'}},\n",
       "    '<= 90': {'Outlook': {'Sunny': {'Wind': {'Weak': 'No', 'Strong': 'No'}},\n",
       "      'Overcast': 'Yes',\n",
       "      'Rain': {'Wind': {'Weak': 'Yes', 'Strong': 'No'}}}},\n",
       "    '> 90': {'Outlook': {'Rain': 'Yes', 'Sunny': 'No'}},\n",
       "    '<= 95': {'Outlook': {'Sunny': {'Wind': {'Weak': 'No', 'Strong': 'No'}},\n",
       "      'Overcast': 'Yes',\n",
       "      'Rain': {'Wind': {'Weak': 'Yes', 'Strong': 'No'}}}},\n",
       "    '> 95': 'Yes'}},\n",
       "  '<= 68': {'Humidity': {'<= 65': 'Yes',\n",
       "    '> 65': {'Wind': {'Weak': 'Yes', 'Strong': 'No'}},\n",
       "    '<= 70': {'Outlook': {'Rain': 'No', 'Overcast': 'Yes'}},\n",
       "    '> 70': 'Yes'}},\n",
       "  '> 68': {'Humidity': {'<= 70': 'Yes',\n",
       "    '> 70': {'Outlook': {'Sunny': 'No',\n",
       "      'Overcast': 'Yes',\n",
       "      'Rain': {'Wind': {'Weak': 'Yes', 'Strong': 'No'}}}},\n",
       "    '<= 75': 'Yes',\n",
       "    '> 75': {'Outlook': {'Sunny': 'No',\n",
       "      'Overcast': 'Yes',\n",
       "      'Rain': {'Wind': {'Weak': 'Yes', 'Strong': 'No'}}}},\n",
       "    '<= 78': 'Yes',\n",
       "    '> 78': {'Outlook': {'Sunny': 'No',\n",
       "      'Rain': {'Wind': {'Weak': 'Yes', 'Strong': 'No'}},\n",
       "      'Overcast': 'Yes'}},\n",
       "    '<= 80': {'Wind': {'Weak': 'Yes',\n",
       "      'Strong': {'Outlook': {'Sunny': 'Yes', 'Rain': 'No'}}}},\n",
       "    '> 80': {'Outlook': {'Sunny': 'No', 'Rain': 'Yes', 'Overcast': 'Yes'}},\n",
       "    '<= 85': {'Outlook': {'Sunny': {'Wind': {'Weak': 'No', 'Strong': 'Yes'}},\n",
       "      'Overcast': 'Yes',\n",
       "      'Rain': {'Wind': {'Weak': 'Yes', 'Strong': 'No'}}}},\n",
       "    '> 85': {'Outlook': {'Sunny': 'No', 'Rain': 'Yes', 'Overcast': 'Yes'}},\n",
       "    '<= 90': {'Outlook': {'Sunny': {'Wind': {'Weak': 'No', 'Strong': 'No'}},\n",
       "      'Overcast': 'Yes',\n",
       "      'Rain': {'Wind': {'Weak': 'Yes', 'Strong': 'No'}}}},\n",
       "    '> 90': {'Outlook': {'Rain': 'Yes', 'Sunny': 'No'}},\n",
       "    '<= 95': {'Outlook': {'Sunny': {'Wind': {'Weak': 'No', 'Strong': 'No'}},\n",
       "      'Overcast': 'Yes',\n",
       "      'Rain': {'Wind': {'Weak': 'Yes', 'Strong': 'No'}}}},\n",
       "    '> 95': 'Yes'}},\n",
       "  '<= 69': {'Wind': {'Weak': 'Yes',\n",
       "    'Strong': {'Outlook': {'Rain': 'No', 'Overcast': 'Yes'}}}},\n",
       "  '> 69': {'Outlook': {'Sunny': {'Humidity': {'<= 70': 'Yes',\n",
       "      '> 70': 'No',\n",
       "      '<= 85': {'Wind': {'Weak': 'No', 'Strong': 'Yes'}},\n",
       "      '> 85': 'No',\n",
       "      '<= 90': {'Wind': {'Weak': 'No', 'Strong': 'No'}},\n",
       "      '> 90': 'No'}},\n",
       "    'Overcast': 'Yes',\n",
       "    'Rain': {'Wind': {'Weak': 'Yes', 'Strong': 'No'}}}},\n",
       "  '<= 70': {'Wind': {'Weak': 'Yes',\n",
       "    'Strong': {'Outlook': {'Rain': 'No', 'Overcast': 'Yes'}}}},\n",
       "  '> 70': {'Outlook': {'Sunny': {'Humidity': {'<= 70': 'Yes',\n",
       "      '> 70': 'No',\n",
       "      '<= 85': {'Wind': {'Weak': 'No', 'Strong': 'Yes'}},\n",
       "      '> 85': 'No',\n",
       "      '<= 90': {'Wind': {'Weak': 'No', 'Strong': 'No'}},\n",
       "      '> 90': 'No'}},\n",
       "    'Overcast': 'Yes',\n",
       "    'Rain': {'Wind': {'Weak': 'Yes', 'Strong': 'No'}}}},\n",
       "  '<= 71': {'Wind': {'Weak': 'Yes',\n",
       "    'Strong': {'Outlook': {'Rain': 'No', 'Overcast': 'Yes'}}}},\n",
       "  '> 71': {'Outlook': {'Sunny': {'Humidity': {'<= 70': 'Yes',\n",
       "      '> 70': 'No',\n",
       "      '<= 85': {'Wind': {'Weak': 'No', 'Strong': 'Yes'}},\n",
       "      '> 85': 'No',\n",
       "      '<= 90': {'Wind': {'Weak': 'No', 'Strong': 'No'}},\n",
       "      '> 90': 'No'}},\n",
       "    'Overcast': 'Yes',\n",
       "    'Rain': 'Yes'}},\n",
       "  '<= 72': {'Humidity': {'<= 65': 'Yes',\n",
       "    '> 65': {'Wind': {'Weak': {'Outlook': {'Rain': 'Yes', 'Sunny': 'No'}},\n",
       "      'Strong': {'Outlook': {'Rain': 'No', 'Overcast': 'Yes'}}}},\n",
       "    '<= 70': {'Outlook': {'Rain': 'No', 'Overcast': 'Yes', 'Sunny': 'Yes'}},\n",
       "    '> 70': {'Outlook': {'Rain': {'Wind': {'Weak': 'Yes', 'Strong': 'No'}},\n",
       "      'Sunny': 'No',\n",
       "      'Overcast': 'Yes'}},\n",
       "    '<= 80': {'Wind': {'Weak': 'Yes',\n",
       "      'Strong': {'Outlook': {'Rain': 'No', 'Overcast': 'Yes'}}}},\n",
       "    '> 80': {'Outlook': {'Rain': 'Yes', 'Sunny': 'No', 'Overcast': 'Yes'}},\n",
       "    '<= 90': {'Outlook': {'Rain': {'Wind': {'Weak': 'Yes', 'Strong': 'No'}},\n",
       "      'Overcast': 'Yes',\n",
       "      'Sunny': 'Yes'}},\n",
       "    '> 90': {'Outlook': {'Rain': 'Yes', 'Sunny': 'No'}},\n",
       "    '<= 95': {'Outlook': {'Rain': {'Wind': {'Weak': 'Yes', 'Strong': 'No'}},\n",
       "      'Overcast': 'Yes',\n",
       "      'Sunny': {'Wind': {'Weak': 'No'}}}},\n",
       "    '> 95': 'Yes'}},\n",
       "  '> 72': {'Humidity': {'<= 70': 'Yes',\n",
       "    '> 70': {'Outlook': {'Sunny': 'No', 'Overcast': 'Yes', 'Rain': 'Yes'}},\n",
       "    '<= 75': 'Yes',\n",
       "    '> 75': {'Outlook': {'Sunny': 'No', 'Overcast': 'Yes', 'Rain': 'Yes'}},\n",
       "    '<= 78': 'Yes',\n",
       "    '> 78': {'Outlook': {'Sunny': 'No', 'Rain': 'Yes'}},\n",
       "    '<= 80': 'Yes',\n",
       "    '> 80': 'No',\n",
       "    '<= 85': {'Outlook': {'Sunny': {'Wind': {'Weak': 'No', 'Strong': 'Yes'}},\n",
       "      'Overcast': 'Yes',\n",
       "      'Rain': 'Yes'}},\n",
       "    '> 85': 'No'}},\n",
       "  '<= 75': {'Humidity': {'<= 65': 'Yes',\n",
       "    '> 65': {'Wind': {'Weak': {'Outlook': {'Rain': 'Yes', 'Sunny': 'No'}},\n",
       "      'Strong': {'Outlook': {'Rain': 'No',\n",
       "        'Sunny': 'Yes',\n",
       "        'Overcast': 'Yes'}}}},\n",
       "    '<= 70': {'Outlook': {'Rain': 'No', 'Overcast': 'Yes', 'Sunny': 'Yes'}},\n",
       "    '> 70': {'Outlook': {'Rain': {'Wind': {'Weak': 'Yes', 'Strong': 'No'}},\n",
       "      'Sunny': 'No',\n",
       "      'Overcast': 'Yes'}},\n",
       "    '<= 80': {'Wind': {'Weak': 'Yes',\n",
       "      'Strong': {'Outlook': {'Rain': 'No',\n",
       "        'Overcast': 'Yes',\n",
       "        'Sunny': 'Yes'}}}},\n",
       "    '> 80': {'Outlook': {'Rain': 'Yes', 'Sunny': 'No', 'Overcast': 'Yes'}},\n",
       "    '<= 90': {'Wind': {'Weak': 'Yes',\n",
       "      'Strong': {'Outlook': {'Rain': 'No',\n",
       "        'Overcast': 'Yes',\n",
       "        'Sunny': 'Yes'}}}},\n",
       "    '> 90': {'Outlook': {'Rain': 'Yes', 'Sunny': 'No'}},\n",
       "    '<= 95': {'Outlook': {'Rain': {'Wind': {'Weak': 'Yes', 'Strong': 'No'}},\n",
       "      'Overcast': 'Yes',\n",
       "      'Sunny': {'Wind': {'Weak': 'No', 'Strong': 'Yes'}}}},\n",
       "    '> 95': 'Yes'}},\n",
       "  '> 75': {'Outlook': {'Sunny': 'No', 'Overcast': 'Yes'}},\n",
       "  '<= 80': {'Humidity': {'<= 65': 'Yes',\n",
       "    '> 65': {'Wind': {'Strong': {'Outlook': {'Sunny': 'No',\n",
       "        'Rain': 'No',\n",
       "        'Overcast': 'Yes'}},\n",
       "      'Weak': {'Outlook': {'Rain': 'Yes', 'Sunny': 'No'}}}},\n",
       "    '<= 70': {'Outlook': {'Rain': 'No', 'Overcast': 'Yes', 'Sunny': 'Yes'}},\n",
       "    '> 70': {'Outlook': {'Sunny': 'No',\n",
       "      'Rain': {'Wind': {'Weak': 'Yes', 'Strong': 'No'}},\n",
       "      'Overcast': 'Yes'}},\n",
       "    '<= 80': {'Wind': {'Weak': 'Yes',\n",
       "      'Strong': {'Outlook': {'Rain': 'No',\n",
       "        'Overcast': 'Yes',\n",
       "        'Sunny': 'Yes'}}}},\n",
       "    '> 80': {'Outlook': {'Sunny': 'No', 'Rain': 'Yes', 'Overcast': 'Yes'}},\n",
       "    '<= 90': {'Wind': {'Strong': {'Outlook': {'Sunny': 'No',\n",
       "        'Rain': 'No',\n",
       "        'Overcast': 'Yes'}},\n",
       "      'Weak': 'Yes'}},\n",
       "    '> 90': {'Outlook': {'Rain': 'Yes', 'Sunny': 'No'}},\n",
       "    '<= 95': {'Outlook': {'Sunny': {'Wind': {'Strong': 'No', 'Weak': 'No'}},\n",
       "      'Rain': {'Wind': {'Weak': 'Yes', 'Strong': 'No'}},\n",
       "      'Overcast': 'Yes'}},\n",
       "    '> 95': 'Yes'}},\n",
       "  '> 80': {'Outlook': {'Sunny': 'No', 'Overcast': 'Yes'}},\n",
       "  '<= 81': {'Outlook': {'Sunny': {'Humidity': {'<= 70': 'Yes',\n",
       "      '> 70': 'No',\n",
       "      '<= 90': {'Wind': {'Strong': 'No', 'Weak': 'Yes'}},\n",
       "      '> 90': 'No'}},\n",
       "    'Rain': {'Wind': {'Weak': 'Yes', 'Strong': 'No'}},\n",
       "    'Overcast': 'Yes'}},\n",
       "  '> 81': {'Outlook': {'Sunny': 'No', 'Overcast': 'Yes'}},\n",
       "  '<= 83': {'Outlook': {'Sunny': {'Humidity': {'<= 70': 'Yes',\n",
       "      '> 70': 'No',\n",
       "      '<= 90': {'Wind': {'Strong': 'No', 'Weak': 'Yes'}},\n",
       "      '> 90': 'No'}},\n",
       "    'Overcast': 'Yes',\n",
       "    'Rain': {'Wind': {'Weak': 'Yes', 'Strong': 'No'}}}},\n",
       "  '> 83': 'No'}}"
      ]
     },
     "execution_count": 8,
     "metadata": {},
     "output_type": "execute_result"
    }
   ],
   "source": [
    "c45tree=C45_tree(df,'Decision')\n",
    "c45tree"
   ]
  },
  {
   "cell_type": "code",
   "execution_count": 9,
   "id": "e2949504",
   "metadata": {},
   "outputs": [],
   "source": [
    "def C45_predict(tree, sample):\n",
    "    if not isinstance(tree, dict):\n",
    "        return tree \n",
    "    feature = next(iter(tree)) \n",
    "    value = sample[feature]      \n",
    "    if isinstance(value, (np.int64, np.float64)):\n",
    "        for condition in tree[feature]:\n",
    "            threshold = float(condition.split('<= ')[-1].split('> ')[-1])  \n",
    "            if '<=' in condition and value <= threshold:\n",
    "                return C45_predict(tree[feature][condition], sample)\n",
    "            elif '>' in condition and value > threshold:\n",
    "                return C45_predict(tree[feature][condition], sample)\n",
    "    else: \n",
    "        if value in tree[feature]:\n",
    "            return C45_predict(tree[feature][value], sample)\n",
    "    return \"Unknown\" "
   ]
  },
  {
   "cell_type": "code",
   "execution_count": 10,
   "id": "896e3aab",
   "metadata": {},
   "outputs": [
    {
     "name": "stdout",
     "output_type": "stream",
     "text": [
      "Prediction for the sample: Yes\n"
     ]
    }
   ],
   "source": [
    "sample = {'Temp.': 75, 'Outlook': 'Overcast', 'Humidity': 70, 'Wind': 'Weak'}\n",
    "sample_df = pd.DataFrame([sample])\n",
    "\n",
    "prediction = C45_predict(c45tree, sample_df.iloc[0])\n",
    "print(f'Prediction for the sample: {prediction}')"
   ]
  },
  {
   "cell_type": "markdown",
   "id": "0ba7d91e",
   "metadata": {},
   "source": [
    "2. Write a python function program to demonstrate the working of the decision tree based CART algorithms\n",
    "without using scikit-learn library. Use Q. No. 1 data set for building the decision tree and apply this knowledge\n",
    "to classify a new sample."
   ]
  },
  {
   "cell_type": "code",
   "execution_count": 11,
   "id": "a75e6714",
   "metadata": {},
   "outputs": [],
   "source": [
    "def gini(y):\n",
    "    probs = y.value_counts(normalize=True)\n",
    "    return 1 - (probs ** 2).sum()"
   ]
  },
  {
   "cell_type": "code",
   "execution_count": 12,
   "id": "8ade28b8",
   "metadata": {},
   "outputs": [
    {
     "data": {
      "text/plain": [
       "('Outlook', 'Overcast')"
      ]
     },
     "execution_count": 12,
     "metadata": {},
     "output_type": "execute_result"
    }
   ],
   "source": [
    "def best_split(data, target):\n",
    "    best_gini, best_feature, best_threshold = float('inf'), None, None\n",
    "    for feature in data.columns[:-1]:\n",
    "        for threshold in np.unique(data[feature]):\n",
    "            left, right = data[data[feature] <= threshold], data[data[feature] > threshold]\n",
    "            if len(left) == 0 or len(right) == 0: continue\n",
    "            gini_split = (len(left) * gini(left[target]) + len(right) * gini(right[target])) / len(data)\n",
    "            if gini_split < best_gini:\n",
    "                best_gini, best_feature, best_threshold = gini_split, feature, threshold\n",
    "    return best_feature, best_threshold\n",
    "best_split(df,'Decision')"
   ]
  },
  {
   "cell_type": "code",
   "execution_count": 13,
   "id": "da5d944e",
   "metadata": {},
   "outputs": [],
   "source": [
    "def cart_tree(data, target):\n",
    "    if len(data[target].unique()) == 1:\n",
    "        return data[target].iloc[0]\n",
    "    if data.shape[1] == 1:\n",
    "        return data[target].mode()[0]\n",
    "\n",
    "    feature, threshold = best_split(data, target)\n",
    "    if feature is None:\n",
    "        return data[target].mode()[0]\n",
    "\n",
    "    left = data[data[feature] <= threshold] if isinstance(threshold, (int, float)) else data[data[feature] == threshold]\n",
    "    right = data[data[feature] > threshold] if isinstance(threshold, (int, float)) else data[data[feature] != threshold]\n",
    "\n",
    "    return {\n",
    "        feature: {\n",
    "            f'<= {threshold}': cart_tree(left.drop(columns=feature), target),\n",
    "            f'> {threshold}': cart_tree(right.drop(columns=feature), target)\n",
    "        }\n",
    "    }"
   ]
  },
  {
   "cell_type": "code",
   "execution_count": 14,
   "id": "117a6d2e",
   "metadata": {},
   "outputs": [
    {
     "data": {
      "text/plain": [
       "{'Outlook': {'<= Overcast': 'Yes',\n",
       "  '> Overcast': {'Temp.': {'<= 75': 'Yes',\n",
       "    '> 75': {'Wind': {'<= Strong': 'No',\n",
       "      '> Strong': {'Humidity': {'<= 80': 'Yes', '> 80': 'No'}}}}}}}}"
      ]
     },
     "execution_count": 14,
     "metadata": {},
     "output_type": "execute_result"
    }
   ],
   "source": [
    "carttree=cart_tree(df,'Decision')\n",
    "carttree"
   ]
  },
  {
   "cell_type": "code",
   "execution_count": 15,
   "id": "1b0fa2e2",
   "metadata": {},
   "outputs": [],
   "source": [
    "def cart_predict(tree, sample):\n",
    "    if not isinstance(tree, dict):\n",
    "        return tree  \n",
    "    feature = next(iter(tree))  \n",
    "    if isinstance(sample[feature], (np.int64, np.float64)):\n",
    "        thresholds = list(tree[feature].keys())\n",
    "        threshold = float(thresholds[0].split(' ')[-1]) \n",
    "        if sample[feature] <= threshold:\n",
    "            return cart_predict(tree[feature]['<= ' + str(threshold)], sample)\n",
    "        else:\n",
    "            return cart_predict(tree[feature]['> ' + str(threshold)], sample)\n",
    "    value = sample[feature]\n",
    "    if value in tree[feature]:\n",
    "        return cart_predict(tree[feature][value], sample)\n",
    "\n",
    "    return \"Unknown\"\n"
   ]
  },
  {
   "cell_type": "code",
   "execution_count": 16,
   "id": "fbce7a9b",
   "metadata": {},
   "outputs": [
    {
     "name": "stdout",
     "output_type": "stream",
     "text": [
      "Prediction for the sample: Unknown\n"
     ]
    }
   ],
   "source": [
    "prediction = cart_predict(carttree, sample_df.iloc[0])\n",
    "print(f'Prediction for the sample: {prediction}')"
   ]
  },
  {
   "cell_type": "markdown",
   "id": "b6e826d4",
   "metadata": {},
   "source": [
    "3. Write a python function program to demonstrate the working of the decision tree based C4.5 and CART\n",
    "algorithms without and with using scikit-learn library. Using the following dataset, apply aforementioned\n",
    "algorithms. The attributes are Income (Low, Medium, High) and Credit (Good, Bad), and the target is Loan\n",
    "Approved (Yes/No)."
   ]
  },
  {
   "cell_type": "code",
   "execution_count": 22,
   "id": "1ef35b06",
   "metadata": {},
   "outputs": [
    {
     "data": {
      "text/html": [
       "<div>\n",
       "<style scoped>\n",
       "    .dataframe tbody tr th:only-of-type {\n",
       "        vertical-align: middle;\n",
       "    }\n",
       "\n",
       "    .dataframe tbody tr th {\n",
       "        vertical-align: top;\n",
       "    }\n",
       "\n",
       "    .dataframe thead th {\n",
       "        text-align: right;\n",
       "    }\n",
       "</style>\n",
       "<table border=\"1\" class=\"dataframe\">\n",
       "  <thead>\n",
       "    <tr style=\"text-align: right;\">\n",
       "      <th></th>\n",
       "      <th>Income</th>\n",
       "      <th>Credit</th>\n",
       "      <th>Loan Approved</th>\n",
       "    </tr>\n",
       "  </thead>\n",
       "  <tbody>\n",
       "    <tr>\n",
       "      <th>0</th>\n",
       "      <td>Low</td>\n",
       "      <td>Good</td>\n",
       "      <td>Yes</td>\n",
       "    </tr>\n",
       "    <tr>\n",
       "      <th>1</th>\n",
       "      <td>Low</td>\n",
       "      <td>Bad</td>\n",
       "      <td>No</td>\n",
       "    </tr>\n",
       "    <tr>\n",
       "      <th>2</th>\n",
       "      <td>Medium</td>\n",
       "      <td>Good</td>\n",
       "      <td>Yes</td>\n",
       "    </tr>\n",
       "    <tr>\n",
       "      <th>3</th>\n",
       "      <td>Medium</td>\n",
       "      <td>Bad</td>\n",
       "      <td>Yes</td>\n",
       "    </tr>\n",
       "    <tr>\n",
       "      <th>4</th>\n",
       "      <td>High</td>\n",
       "      <td>Good</td>\n",
       "      <td>Yes</td>\n",
       "    </tr>\n",
       "    <tr>\n",
       "      <th>5</th>\n",
       "      <td>High</td>\n",
       "      <td>Bad</td>\n",
       "      <td>No</td>\n",
       "    </tr>\n",
       "  </tbody>\n",
       "</table>\n",
       "</div>"
      ],
      "text/plain": [
       "   Income Credit Loan Approved\n",
       "0     Low   Good           Yes\n",
       "1     Low    Bad            No\n",
       "2  Medium   Good           Yes\n",
       "3  Medium    Bad           Yes\n",
       "4    High   Good           Yes\n",
       "5    High    Bad            No"
      ]
     },
     "execution_count": 22,
     "metadata": {},
     "output_type": "execute_result"
    }
   ],
   "source": [
    "data=pd.read_csv('loan.csv')\n",
    "data"
   ]
  },
  {
   "cell_type": "code",
   "execution_count": 26,
   "id": "f5b6606d",
   "metadata": {},
   "outputs": [],
   "source": [
    "sample = {'Income': 'Low', 'Credit': 'Good'}\n",
    "sample_df = pd.DataFrame([sample])"
   ]
  },
  {
   "cell_type": "code",
   "execution_count": 27,
   "id": "d10682f4",
   "metadata": {},
   "outputs": [
    {
     "data": {
      "text/plain": [
       "{'Credit': {'Good': 'Yes',\n",
       "  'Bad': {'Income': {'Low': 'No', 'Medium': 'Yes', 'High': 'No'}}}}"
      ]
     },
     "execution_count": 27,
     "metadata": {},
     "output_type": "execute_result"
    }
   ],
   "source": [
    "c45tree=C45_tree(data,'Loan Approved')\n",
    "c45tree"
   ]
  },
  {
   "cell_type": "code",
   "execution_count": 28,
   "id": "dcca4fac",
   "metadata": {},
   "outputs": [
    {
     "name": "stdout",
     "output_type": "stream",
     "text": [
      "Prediction for the sample: Yes\n"
     ]
    }
   ],
   "source": [
    "prediction = C45_predict(c45tree, sample_df.iloc[0])\n",
    "print(f'Prediction for the sample: {prediction}')"
   ]
  },
  {
   "cell_type": "code",
   "execution_count": 32,
   "id": "eddd88c3",
   "metadata": {},
   "outputs": [
    {
     "data": {
      "text/plain": [
       "{'Credit': {'<= Bad': {'Income': {'<= Low': 'No', '> Low': 'No'}},\n",
       "  '> Bad': 'Yes'}}"
      ]
     },
     "execution_count": 32,
     "metadata": {},
     "output_type": "execute_result"
    }
   ],
   "source": [
    "carttree=cart_tree(data,'Loan Approved')\n",
    "carttree"
   ]
  },
  {
   "cell_type": "code",
   "execution_count": 33,
   "id": "27266240",
   "metadata": {},
   "outputs": [
    {
     "name": "stdout",
     "output_type": "stream",
     "text": [
      "Prediction for the sample: Unknown\n"
     ]
    }
   ],
   "source": [
    "prediction = cart_predict(carttree, sample_df.iloc[0])\n",
    "print(f'Prediction for the sample: {prediction}')"
   ]
  }
 ],
 "metadata": {
  "kernelspec": {
   "display_name": "Python 3 (ipykernel)",
   "language": "python",
   "name": "python3"
  },
  "language_info": {
   "codemirror_mode": {
    "name": "ipython",
    "version": 3
   },
   "file_extension": ".py",
   "mimetype": "text/x-python",
   "name": "python",
   "nbconvert_exporter": "python",
   "pygments_lexer": "ipython3",
   "version": "3.12.3"
  }
 },
 "nbformat": 4,
 "nbformat_minor": 5
}
