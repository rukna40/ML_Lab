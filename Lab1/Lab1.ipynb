{
 "cells": [
  {
   "cell_type": "code",
   "execution_count": 1,
   "id": "af5046db",
   "metadata": {},
   "outputs": [],
   "source": [
    "import numpy as np"
   ]
  },
  {
   "cell_type": "code",
   "execution_count": 2,
   "id": "13dc2be0",
   "metadata": {},
   "outputs": [
    {
     "data": {
      "text/plain": [
       "array([[0, 1, 2],\n",
       "       [3, 4, 5],\n",
       "       [6, 7, 8]])"
      ]
     },
     "execution_count": 2,
     "metadata": {},
     "output_type": "execute_result"
    }
   ],
   "source": [
    "A1 = np.array([0, 1, 2, 3, 4, 5, 6, 7, 8])\n",
    "A1=A1.reshape(3,3)\n",
    "A1"
   ]
  },
  {
   "cell_type": "code",
   "execution_count": 3,
   "id": "e9510d1a",
   "metadata": {},
   "outputs": [
    {
     "data": {
      "text/plain": [
       "array([ 0, -1,  2, -1,  4, -1,  6, -1,  8, -1])"
      ]
     },
     "execution_count": 3,
     "metadata": {},
     "output_type": "execute_result"
    }
   ],
   "source": [
    "A2 = np.array([0, 1, 2, 3, 4, 5, 6, 7, 8, 9])\n",
    "A2[A2%2!=0]=-1\n",
    "A2"
   ]
  },
  {
   "cell_type": "code",
   "execution_count": 4,
   "id": "21254a1c",
   "metadata": {},
   "outputs": [
    {
     "name": "stdout",
     "output_type": "stream",
     "text": [
      "(array([1, 2, 4, 5, 6, 7, 8, 9]),)\n",
      "(array([0]),)\n"
     ]
    }
   ],
   "source": [
    "x = np.array([21, 64, 86, 22, 74, 55, 81, 79, 90, 89]) \n",
    "y = np.array([21, 7, 3, 45, 10, 29, 55, 4, 37, 18])\n",
    "print(np.where(x>y))\n",
    "print(np.where(x==y))"
   ]
  },
  {
   "cell_type": "code",
   "execution_count": 5,
   "id": "d77a4ed6",
   "metadata": {},
   "outputs": [
    {
     "data": {
      "text/plain": [
       "array([[ 0,  1,  2,  3],\n",
       "       [20, 21, 22, 23],\n",
       "       [40, 41, 42, 43],\n",
       "       [60, 61, 62, 63],\n",
       "       [80, 81, 82, 83]])"
      ]
     },
     "execution_count": 5,
     "metadata": {},
     "output_type": "execute_result"
    }
   ],
   "source": [
    "A4=np.arange(100).reshape(5,-1)\n",
    "A4[:,:4]"
   ]
  },
  {
   "cell_type": "code",
   "execution_count": 6,
   "id": "b47d794e",
   "metadata": {},
   "outputs": [
    {
     "data": {
      "text/plain": [
       "array([32, 33, 36, 37, 35, 37, 40, 35, 30, 37])"
      ]
     },
     "execution_count": 6,
     "metadata": {},
     "output_type": "execute_result"
    }
   ],
   "source": [
    "np.random.randint(30, 41, 10)"
   ]
  },
  {
   "cell_type": "code",
   "execution_count": 7,
   "id": "47a2ea63",
   "metadata": {},
   "outputs": [
    {
     "name": "stdout",
     "output_type": "stream",
     "text": [
      "[[ 8 10 13]\n",
      " [ 8 10 12]\n",
      " [ 8 10 13]] \n",
      "\n",
      "[[-6 -6 -7]\n",
      " [ 0  0  0]\n",
      " [ 6  6  7]] \n",
      "\n",
      "46 \n",
      "\n",
      "[12 15 19] \n",
      "\n",
      "[31 30 31] \n",
      "\n",
      "[[ 18  24  31]\n",
      " [ 54  69  88]\n",
      " [ 91 116 148]] \n",
      "\n",
      "[[ 8  8  8]\n",
      " [10 10 10]\n",
      " [12 13 13]] \n",
      "\n",
      "[[ 8 10 12]\n",
      " [ 8 10 13]\n",
      " [ 8 10 13]]\n"
     ]
    }
   ],
   "source": [
    "A = ((1, 2, 3), (4, 5, 6), (7, 8, 10))\n",
    "B = ((7, 8, 10) ,(4, 5, 6), (1, 2, 3))\n",
    "A=np.array(A)\n",
    "B=np.array(B)\n",
    "C=A+B\n",
    "E=A-B\n",
    "print(C,\"\\n\")\n",
    "print(E,\"\\n\")\n",
    "\n",
    "print(np.sum(A),\"\\n\")\n",
    "print(np.sum(B,axis=0),\"\\n\")\n",
    "print(np.sum(C,axis=1),\"\\n\")\n",
    "\n",
    "D=np.dot(A,B)\n",
    "print(D,\"\\n\")\n",
    "\n",
    "E=np.sort(C,axis=None).reshape((3,3))\n",
    "print(E,\"\\n\")\n",
    "\n",
    "print(E.T)"
   ]
  }
 ],
 "metadata": {
  "kernelspec": {
   "display_name": "Python 3 (ipykernel)",
   "language": "python",
   "name": "python3"
  },
  "language_info": {
   "codemirror_mode": {
    "name": "ipython",
    "version": 3
   },
   "file_extension": ".py",
   "mimetype": "text/x-python",
   "name": "python",
   "nbconvert_exporter": "python",
   "pygments_lexer": "ipython3",
   "version": "3.8.10"
  }
 },
 "nbformat": 4,
 "nbformat_minor": 5
}
