{
 "cells": [
  {
   "cell_type": "code",
   "execution_count": 1,
   "id": "c3b6a42c",
   "metadata": {},
   "outputs": [],
   "source": [
    "import pandas as pd\n",
    "import numpy as np\n",
    "import matplotlib.pyplot as plt"
   ]
  },
  {
   "cell_type": "markdown",
   "id": "0edf12be",
   "metadata": {},
   "source": [
    "1. Let’s say we have a fictional dataset of pairs of variables, a mother and her daughter’s heights.\n",
    "Create a CSV file for the above training data and write a Python function program to find the fitted linear\n",
    "regression with gradient descent technique. Compare the coefficients obtained from the sklearn model with\n",
    "your program. Compute the error, MSE and RMSE. Plot the graph Daughter height (Y-axis) vs Mother height\n",
    "(X-axis) with blue colour. Also, plot the line of best fit with red colour. Predict her daughter’s height with\n",
    "given a new mother height as 63. Plot the graph of error in y-axis and iteration in x-axis with 4 epochs (6x4=24\n",
    "iterations)."
   ]
  },
  {
   "cell_type": "code",
   "execution_count": 2,
   "id": "f312f8f2",
   "metadata": {},
   "outputs": [],
   "source": [
    "def cost(y_hat,y):\n",
    "    return np.sqrt(np.mean((y_hat-y)**2))"
   ]
  },
  {
   "cell_type": "code",
   "execution_count": 3,
   "id": "439808cf",
   "metadata": {},
   "outputs": [],
   "source": [
    "def linear(X,Y,epoch,alpha):\n",
    "    b0=0\n",
    "    b1=0\n",
    "    costs=[]\n",
    "    for iter in range(epoch):\n",
    "        for i in range(len(X)):\n",
    "            y_hat=b0+b1*X[i]\n",
    "            costs.append(cost(y_hat,Y[i]))\n",
    "            b0=b0-alpha*(y_hat-Y[i])\n",
    "            b1=b1-alpha*(y_hat-Y[i])*X[i]\n",
    "    return b0,b1,costs"
   ]
  },
  {
   "cell_type": "code",
   "execution_count": 4,
   "id": "721890bd",
   "metadata": {},
   "outputs": [
    {
     "data": {
      "text/html": [
       "<div>\n",
       "<style scoped>\n",
       "    .dataframe tbody tr th:only-of-type {\n",
       "        vertical-align: middle;\n",
       "    }\n",
       "\n",
       "    .dataframe tbody tr th {\n",
       "        vertical-align: top;\n",
       "    }\n",
       "\n",
       "    .dataframe thead th {\n",
       "        text-align: right;\n",
       "    }\n",
       "</style>\n",
       "<table border=\"1\" class=\"dataframe\">\n",
       "  <thead>\n",
       "    <tr style=\"text-align: right;\">\n",
       "      <th></th>\n",
       "      <th>mother_height</th>\n",
       "      <th>daughter_height</th>\n",
       "    </tr>\n",
       "  </thead>\n",
       "  <tbody>\n",
       "    <tr>\n",
       "      <th>0</th>\n",
       "      <td>55</td>\n",
       "      <td>60</td>\n",
       "    </tr>\n",
       "    <tr>\n",
       "      <th>1</th>\n",
       "      <td>62</td>\n",
       "      <td>60</td>\n",
       "    </tr>\n",
       "    <tr>\n",
       "      <th>2</th>\n",
       "      <td>60</td>\n",
       "      <td>58</td>\n",
       "    </tr>\n",
       "    <tr>\n",
       "      <th>3</th>\n",
       "      <td>64</td>\n",
       "      <td>60</td>\n",
       "    </tr>\n",
       "    <tr>\n",
       "      <th>4</th>\n",
       "      <td>67</td>\n",
       "      <td>70</td>\n",
       "    </tr>\n",
       "    <tr>\n",
       "      <th>5</th>\n",
       "      <td>70</td>\n",
       "      <td>72</td>\n",
       "    </tr>\n",
       "  </tbody>\n",
       "</table>\n",
       "</div>"
      ],
      "text/plain": [
       "   mother_height  daughter_height\n",
       "0             55               60\n",
       "1             62               60\n",
       "2             60               58\n",
       "3             64               60\n",
       "4             67               70\n",
       "5             70               72"
      ]
     },
     "execution_count": 4,
     "metadata": {},
     "output_type": "execute_result"
    }
   ],
   "source": [
    "df=pd.read_csv('height.csv')\n",
    "df"
   ]
  },
  {
   "cell_type": "code",
   "execution_count": 5,
   "id": "f271d680",
   "metadata": {},
   "outputs": [],
   "source": [
    "x=df['mother_height'].values\n",
    "y=df['daughter_height'].values"
   ]
  },
  {
   "cell_type": "code",
   "execution_count": 6,
   "id": "f3fb8613",
   "metadata": {},
   "outputs": [],
   "source": [
    "epoch=4\n",
    "alpha=0.0001\n",
    "b0,b1,costs=linear(x,y,epoch,alpha)"
   ]
  },
  {
   "cell_type": "code",
   "execution_count": 7,
   "id": "b09eaf8b",
   "metadata": {},
   "outputs": [
    {
     "name": "stdout",
     "output_type": "stream",
     "text": [
      "mae 2.983963441100402 mse 10.763065360860908 rmse 3.2807111059739635\n"
     ]
    }
   ],
   "source": [
    "y_pred=b0+b1*x\n",
    "mae=rmse=np.mean(abs(y_pred-y))\n",
    "mse=np.mean((y_pred-y)**2)\n",
    "rmse=np.sqrt(np.mean((y_pred-y)**2))\n",
    "print('mae',mae,'mse',mse,'rmse',rmse)"
   ]
  },
  {
   "cell_type": "code",
   "execution_count": 8,
   "id": "b184f7fb",
   "metadata": {},
   "outputs": [
    {
     "data": {
      "text/plain": [
       "[<matplotlib.lines.Line2D at 0x723588ec9070>]"
      ]
     },
     "execution_count": 8,
     "metadata": {},
     "output_type": "execute_result"
    },
    {
     "data": {
      "image/png": "[encoded data removed]",
      "text/plain": [
       "<Figure size 640x480 with 1 Axes>"
      ]
     },
     "metadata": {},
     "output_type": "display_data"
    }
   ],
   "source": [
    "plt.scatter(x,y)\n",
    "plt.plot(x,y_pred,color='r')"
   ]
  },
  {
   "cell_type": "code",
   "execution_count": 9,
   "id": "cda14bff",
   "metadata": {},
   "outputs": [
    {
     "data": {
      "text/plain": [
       "[<matplotlib.lines.Line2D at 0x723588cb3440>]"
      ]
     },
     "execution_count": 9,
     "metadata": {},
     "output_type": "execute_result"
    },
    {
     "data": {
      "image/png": "[encoded data removed]",
      "text/plain": [
       "<Figure size 640x480 with 1 Axes>"
      ]
     },
     "metadata": {},
     "output_type": "display_data"
    }
   ],
   "source": [
    "plt.plot(range(epoch*len(x)),costs)"
   ]
  },
  {
   "cell_type": "markdown",
   "id": "0e9d9626",
   "metadata": {},
   "source": [
    "## sklearn"
   ]
  },
  {
   "cell_type": "code",
   "execution_count": 10,
   "id": "83e5b571",
   "metadata": {},
   "outputs": [],
   "source": [
    "from sklearn.linear_model import SGDRegressor"
   ]
  },
  {
   "cell_type": "code",
   "execution_count": 11,
   "id": "76307876",
   "metadata": {},
   "outputs": [
    {
     "name": "stderr",
     "output_type": "stream",
     "text": [
      "/usr/lib/python3/dist-packages/sklearn/utils/validation.py:1300: DataConversionWarning: A column-vector y was passed when a 1d array was expected. Please change the shape of y to (n_samples, ), for example using ravel().\n",
      "  y = column_or_1d(y, warn=True)\n",
      "/usr/lib/python3/dist-packages/sklearn/linear_model/_stochastic_gradient.py:1575: ConvergenceWarning: Maximum number of iteration reached before convergence. Consider increasing max_iter to improve the fit.\n",
      "  warnings.warn(\n"
     ]
    }
   ],
   "source": [
    "sgd=SGDRegressor(max_iter=4,eta0=0.0001)\n",
    "sgd.fit(x.reshape(-1,1),y.reshape(-1,1))\n",
    "b0=sgd.intercept_\n",
    "b1=sgd.coef_\n",
    "\n",
    "y_pred=b0+b1*x"
   ]
  },
  {
   "cell_type": "code",
   "execution_count": 12,
   "id": "6dd341d3",
   "metadata": {},
   "outputs": [
    {
     "name": "stdout",
     "output_type": "stream",
     "text": [
      "mae 2.9933096924095737 mse 10.256440194516466 rmse 3.2025677501836656\n"
     ]
    }
   ],
   "source": [
    "mae=rmse=np.mean(abs(y_pred-y))\n",
    "mse=np.mean((y_pred-y)**2)\n",
    "rmse=np.sqrt(np.mean((y_pred-y)**2))\n",
    "print('mae',mae,'mse',mse,'rmse',rmse)"
   ]
  },
  {
   "cell_type": "code",
   "execution_count": 13,
   "id": "afeabdca",
   "metadata": {},
   "outputs": [
    {
     "data": {
      "text/plain": [
       "[<matplotlib.lines.Line2D at 0x72357d305af0>]"
      ]
     },
     "execution_count": 13,
     "metadata": {},
     "output_type": "execute_result"
    },
    {
     "data": {
      "image/png": "[encoded data removed]",
      "text/plain": [
       "<Figure size 640x480 with 1 Axes>"
      ]
     },
     "metadata": {},
     "output_type": "display_data"
    }
   ],
   "source": [
    "plt.scatter(x,y)\n",
    "plt.plot(x,y_pred,color='r')"
   ]
  },
  {
   "cell_type": "markdown",
   "id": "e7c5066e",
   "metadata": {},
   "source": [
    "2. Create a CSV file for the above training data and write a Python function program to find the fitted logistic\n",
    "regression with gradient descent technique. Compare the coefficients obtained from the sklearn model with\n",
    "your program. Compute the predicted y and assign the class label (prediction = 0 IF p(fail) < 0.5 and prediction\n",
    "= 1 IF p(pass) >= 0.5) and compute the accuracy. Find the error for each iteration and predict the probability\n",
    "that a student will pass the exam if they study for a) 3.5 hours b) 7.5 hours. Plot the graph of error in y-axis\n",
    "and iteration in x-axis with 3 epochs (8x3=24 iterations)."
   ]
  },
  {
   "cell_type": "code",
   "execution_count": 14,
   "id": "1f48ce27",
   "metadata": {},
   "outputs": [],
   "source": [
    "def sigmoid(z):\n",
    "    return 1/(1+np.exp(-z))"
   ]
  },
  {
   "cell_type": "code",
   "execution_count": 15,
   "id": "7119f53c",
   "metadata": {},
   "outputs": [],
   "source": [
    "def loss(y_hat,y):\n",
    "    return (-1/len(y))*np.sum(y*np.log(y_hat)+(1-y)*np.log(1-y_hat))"
   ]
  },
  {
   "cell_type": "code",
   "execution_count": 16,
   "id": "a3ed4b93",
   "metadata": {},
   "outputs": [],
   "source": [
    "def logistic(X,Y,epoch,alpha):\n",
    "    b0=0\n",
    "    b1=0\n",
    "    costs=[]\n",
    "    for iter in range(epoch):\n",
    "        y_pred=[]\n",
    "        for i in range(len(X)):\n",
    "            z=b0+b1*X[i]\n",
    "            y_hat=sigmoid(z)\n",
    "            y_pred.append(y_hat)\n",
    "            b0=b0-alpha*(y_hat-Y[i])\n",
    "            b1=b1-alpha*(y_hat-Y[i])*X[i]\n",
    "        cost=loss(np.array(y_pred),y)\n",
    "        print(f'Cost at {iter+1}:',cost)\n",
    "        costs.append(cost)\n",
    "        \n",
    "    return b0,b1,costs"
   ]
  },
  {
   "cell_type": "code",
   "execution_count": 17,
   "id": "fc4ddd7c",
   "metadata": {},
   "outputs": [
    {
     "data": {
      "text/html": [
       "<div>\n",
       "<style scoped>\n",
       "    .dataframe tbody tr th:only-of-type {\n",
       "        vertical-align: middle;\n",
       "    }\n",
       "\n",
       "    .dataframe tbody tr th {\n",
       "        vertical-align: top;\n",
       "    }\n",
       "\n",
       "    .dataframe thead th {\n",
       "        text-align: right;\n",
       "    }\n",
       "</style>\n",
       "<table border=\"1\" class=\"dataframe\">\n",
       "  <thead>\n",
       "    <tr style=\"text-align: right;\">\n",
       "      <th></th>\n",
       "      <th>Hours</th>\n",
       "      <th>Pass</th>\n",
       "    </tr>\n",
       "  </thead>\n",
       "  <tbody>\n",
       "    <tr>\n",
       "      <th>0</th>\n",
       "      <td>1</td>\n",
       "      <td>0</td>\n",
       "    </tr>\n",
       "    <tr>\n",
       "      <th>1</th>\n",
       "      <td>2</td>\n",
       "      <td>0</td>\n",
       "    </tr>\n",
       "    <tr>\n",
       "      <th>2</th>\n",
       "      <td>3</td>\n",
       "      <td>0</td>\n",
       "    </tr>\n",
       "    <tr>\n",
       "      <th>3</th>\n",
       "      <td>4</td>\n",
       "      <td>0</td>\n",
       "    </tr>\n",
       "    <tr>\n",
       "      <th>4</th>\n",
       "      <td>5</td>\n",
       "      <td>1</td>\n",
       "    </tr>\n",
       "    <tr>\n",
       "      <th>5</th>\n",
       "      <td>6</td>\n",
       "      <td>1</td>\n",
       "    </tr>\n",
       "    <tr>\n",
       "      <th>6</th>\n",
       "      <td>7</td>\n",
       "      <td>1</td>\n",
       "    </tr>\n",
       "    <tr>\n",
       "      <th>7</th>\n",
       "      <td>8</td>\n",
       "      <td>1</td>\n",
       "    </tr>\n",
       "  </tbody>\n",
       "</table>\n",
       "</div>"
      ],
      "text/plain": [
       "   Hours  Pass\n",
       "0      1     0\n",
       "1      2     0\n",
       "2      3     0\n",
       "3      4     0\n",
       "4      5     1\n",
       "5      6     1\n",
       "6      7     1\n",
       "7      8     1"
      ]
     },
     "execution_count": 17,
     "metadata": {},
     "output_type": "execute_result"
    }
   ],
   "source": [
    "df=pd.read_csv('pass.csv')\n",
    "df"
   ]
  },
  {
   "cell_type": "code",
   "execution_count": 18,
   "id": "68aa4b28",
   "metadata": {},
   "outputs": [],
   "source": [
    "x=df['Hours'].values\n",
    "y=df['Pass'].values"
   ]
  },
  {
   "cell_type": "code",
   "execution_count": 19,
   "id": "dfd2bdad",
   "metadata": {},
   "outputs": [
    {
     "name": "stdout",
     "output_type": "stream",
     "text": [
      "Cost at 1: 0.6883454701255218\n",
      "Cost at 2: 0.6589938220010261\n",
      "Cost at 3: 0.6417198440255918\n",
      "Cost at 4: 0.6312616460823844\n"
     ]
    }
   ],
   "source": [
    "epoch=4\n",
    "alpha=0.005\n",
    "b0,b1,costs=logistic(x,y,epoch,alpha)"
   ]
  },
  {
   "cell_type": "code",
   "execution_count": 20,
   "id": "236c9113",
   "metadata": {},
   "outputs": [],
   "source": [
    "y_pred=b0+b1*x"
   ]
  },
  {
   "cell_type": "code",
   "execution_count": 21,
   "id": "7b236225",
   "metadata": {},
   "outputs": [
    {
     "data": {
      "text/plain": [
       "array([0, 0, 0, 0, 1, 1, 1, 1])"
      ]
     },
     "execution_count": 21,
     "metadata": {},
     "output_type": "execute_result"
    }
   ],
   "source": [
    "y_hot=(y_pred>=0.5).astype(int)\n",
    "y_hot"
   ]
  },
  {
   "cell_type": "code",
   "execution_count": 22,
   "id": "20133095",
   "metadata": {},
   "outputs": [
    {
     "data": {
      "text/plain": [
       "[<matplotlib.lines.Line2D at 0x72357d1444d0>]"
      ]
     },
     "execution_count": 22,
     "metadata": {},
     "output_type": "execute_result"
    },
    {
     "data": {
      "image/png": "[encoded data removed]",
      "text/plain": [
       "<Figure size 640x480 with 1 Axes>"
      ]
     },
     "metadata": {},
     "output_type": "display_data"
    }
   ],
   "source": [
    "plt.scatter(x,y)\n",
    "plt.plot(x,y_hot.T,color='r')"
   ]
  },
  {
   "cell_type": "code",
   "execution_count": 23,
   "id": "1800f630",
   "metadata": {},
   "outputs": [
    {
     "name": "stdout",
     "output_type": "stream",
     "text": [
      "Accuracy = 100.0 %\n"
     ]
    }
   ],
   "source": [
    "accuracy=np.mean(y_hot==y)*100\n",
    "print(f'Accuracy = {accuracy} %')"
   ]
  },
  {
   "cell_type": "code",
   "execution_count": 24,
   "id": "5569eb5a",
   "metadata": {},
   "outputs": [
    {
     "name": "stdout",
     "output_type": "stream",
     "text": [
      "3.5 hours: 0.39004566473305197\n",
      "7.5 hours: 0.8446810431559029\n"
     ]
    }
   ],
   "source": [
    "y1=b0+b1*3.5\n",
    "y2=b0+b1*7.5\n",
    "print(f'3.5 hours: {y1}\\n7.5 hours: {y2}') "
   ]
  },
  {
   "cell_type": "code",
   "execution_count": 25,
   "id": "e324f7f6",
   "metadata": {},
   "outputs": [
    {
     "data": {
      "text/plain": [
       "[<matplotlib.lines.Line2D at 0x72357d0ea480>]"
      ]
     },
     "execution_count": 25,
     "metadata": {},
     "output_type": "execute_result"
    },
    {
     "data": {
      "image/png": "[encoded data removed]",
      "text/plain": [
       "<Figure size 640x480 with 1 Axes>"
      ]
     },
     "metadata": {},
     "output_type": "display_data"
    }
   ],
   "source": [
    "plt.plot(range(1,epoch+1),costs)"
   ]
  },
  {
   "cell_type": "markdown",
   "id": "51660e61",
   "metadata": {},
   "source": [
    "## sklearn"
   ]
  },
  {
   "cell_type": "code",
   "execution_count": 26,
   "id": "fc82d5a2",
   "metadata": {},
   "outputs": [],
   "source": [
    "from sklearn.linear_model import LogisticRegression"
   ]
  },
  {
   "cell_type": "code",
   "execution_count": 27,
   "id": "c3c54653",
   "metadata": {},
   "outputs": [],
   "source": [
    "sgd=LogisticRegression()\n",
    "sgd.fit(x.reshape(-1,1),y)\n",
    "b0=sgd.intercept_\n",
    "b1=sgd.coef_\n",
    "\n",
    "y_pred=b0+b1*x"
   ]
  },
  {
   "cell_type": "code",
   "execution_count": 28,
   "id": "67719450",
   "metadata": {},
   "outputs": [
    {
     "data": {
      "text/plain": [
       "[<matplotlib.lines.Line2D at 0x72357d003500>]"
      ]
     },
     "execution_count": 28,
     "metadata": {},
     "output_type": "execute_result"
    },
    {
     "data": {
      "image/png": "[encoded data removed]",
      "text/plain": [
       "<Figure size 640x480 with 1 Axes>"
      ]
     },
     "metadata": {},
     "output_type": "display_data"
    }
   ],
   "source": [
    "plt.scatter(x,y)\n",
    "plt.plot(x,y_pred.T,color='r')"
   ]
  }
 ],
 "metadata": {
  "kernelspec": {
   "display_name": "Python 3 (ipykernel)",
   "language": "python",
   "name": "python3"
  },
  "language_info": {
   "codemirror_mode": {
    "name": "ipython",
    "version": 3
   },
   "file_extension": ".py",
   "mimetype": "text/x-python",
   "name": "python",
   "nbconvert_exporter": "python",
   "pygments_lexer": "ipython3",
   "version": "3.12.3"
  }
 },
 "nbformat": 4,
 "nbformat_minor": 5
}
