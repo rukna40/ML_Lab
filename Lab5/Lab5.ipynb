{
 "cells": [
  {
   "cell_type": "code",
   "execution_count": 1616,
   "id": "c3b6a42c",
   "metadata": {},
   "outputs": [],
   "source": [
    "import pandas as pd\n",
    "import numpy as np\n",
    "import matplotlib.pyplot as plt"
   ]
  },
  {
   "cell_type": "markdown",
   "id": "0edf12be",
   "metadata": {},
   "source": [
    "1. Let’s say we have a fictional dataset of pairs of variables, a mother and her daughter’s heights.\n",
    "Create a CSV file for the above training data and write a Python function program to find the fitted linear\n",
    "regression with gradient descent technique. Compare the coefficients obtained from the sklearn model with\n",
    "your program. Compute the error, MSE and RMSE. Plot the graph Daughter height (Y-axis) vs Mother height\n",
    "(X-axis) with blue colour. Also, plot the line of best fit with red colour. Predict her daughter’s height with\n",
    "given a new mother height as 63. Plot the graph of error in y-axis and iteration in x-axis with 4 epochs (6x4=24\n",
    "iterations)."
   ]
  },
  {
   "cell_type": "code",
   "execution_count": 1617,
   "id": "f312f8f2",
   "metadata": {},
   "outputs": [],
   "source": [
    "def cost(y_hat,y):\n",
    "    return np.sqrt(np.mean((y_hat-y)**2))"
   ]
  },
  {
   "cell_type": "code",
   "execution_count": 1618,
   "id": "439808cf",
   "metadata": {},
   "outputs": [],
   "source": [
    "def linear(X,Y,epoch,alpha):\n",
    "    b0=0\n",
    "    b1=0\n",
    "    costs=[]\n",
    "    for iter in range(epoch):\n",
    "        for i in range(len(X)):\n",
    "            y_hat=b0+b1*X[i]\n",
    "            costs.append(cost(y_hat,Y[i]))\n",
    "            b0=b0-alpha*(y_hat-Y[i])\n",
    "            b1=b1-alpha*(y_hat-Y[i])*X[i]\n",
    "    return b0,b1,costs"
   ]
  },
  {
   "cell_type": "code",
   "execution_count": 1619,
   "id": "721890bd",
   "metadata": {},
   "outputs": [
    {
     "data": {
      "text/html": [
       "<div>\n",
       "<style scoped>\n",
       "    .dataframe tbody tr th:only-of-type {\n",
       "        vertical-align: middle;\n",
       "    }\n",
       "\n",
       "    .dataframe tbody tr th {\n",
       "        vertical-align: top;\n",
       "    }\n",
       "\n",
       "    .dataframe thead th {\n",
       "        text-align: right;\n",
       "    }\n",
       "</style>\n",
       "<table border=\"1\" class=\"dataframe\">\n",
       "  <thead>\n",
       "    <tr style=\"text-align: right;\">\n",
       "      <th></th>\n",
       "      <th>mother_height</th>\n",
       "      <th>daughter_height</th>\n",
       "    </tr>\n",
       "  </thead>\n",
       "  <tbody>\n",
       "    <tr>\n",
       "      <th>0</th>\n",
       "      <td>55</td>\n",
       "      <td>60</td>\n",
       "    </tr>\n",
       "    <tr>\n",
       "      <th>1</th>\n",
       "      <td>62</td>\n",
       "      <td>60</td>\n",
       "    </tr>\n",
       "    <tr>\n",
       "      <th>2</th>\n",
       "      <td>60</td>\n",
       "      <td>58</td>\n",
       "    </tr>\n",
       "    <tr>\n",
       "      <th>3</th>\n",
       "      <td>64</td>\n",
       "      <td>60</td>\n",
       "    </tr>\n",
       "    <tr>\n",
       "      <th>4</th>\n",
       "      <td>67</td>\n",
       "      <td>70</td>\n",
       "    </tr>\n",
       "    <tr>\n",
       "      <th>5</th>\n",
       "      <td>70</td>\n",
       "      <td>72</td>\n",
       "    </tr>\n",
       "  </tbody>\n",
       "</table>\n",
       "</div>"
      ],
      "text/plain": [
       "   mother_height  daughter_height\n",
       "0             55               60\n",
       "1             62               60\n",
       "2             60               58\n",
       "3             64               60\n",
       "4             67               70\n",
       "5             70               72"
      ]
     },
     "execution_count": 1619,
     "metadata": {},
     "output_type": "execute_result"
    }
   ],
   "source": [
    "df=pd.read_csv('height.csv')\n",
    "df"
   ]
  },
  {
   "cell_type": "code",
   "execution_count": 1620,
   "id": "f271d680",
   "metadata": {},
   "outputs": [],
   "source": [
    "x=df['mother_height'].values\n",
    "y=df['daughter_height'].values"
   ]
  },
  {
   "cell_type": "code",
   "execution_count": 1621,
   "id": "f3fb8613",
   "metadata": {},
   "outputs": [],
   "source": [
    "epoch=10\n",
    "alpha=0.0001\n",
    "b0,b1,costs=linear(x,y,epoch,alpha)"
   ]
  },
  {
   "cell_type": "code",
   "execution_count": 1622,
   "id": "b09eaf8b",
   "metadata": {},
   "outputs": [
    {
     "name": "stdout",
     "output_type": "stream",
     "text": [
      "mae 2.9839580169826534 mse 10.763464276797665 rmse 3.280771902585985\n"
     ]
    }
   ],
   "source": [
    "y_pred=b0+b1*x\n",
    "mae=rmse=np.mean(abs(y_pred-y))\n",
    "mse=np.mean((y_pred-y)**2)\n",
    "rmse=np.sqrt(np.mean((y_pred-y)**2))\n",
    "print('mae',mae,'mse',mse,'rmse',rmse)"
   ]
  },
  {
   "cell_type": "code",
   "execution_count": 1623,
   "id": "b184f7fb",
   "metadata": {},
   "outputs": [
    {
     "data": {
      "text/plain": [
       "[<matplotlib.lines.Line2D at 0x7fe0fa708be0>]"
      ]
     },
     "execution_count": 1623,
     "metadata": {},
     "output_type": "execute_result"
    },
    {
     "data": {
      "image/png": "[encoded data removed]",
      "text/plain": [
       "<Figure size 640x480 with 1 Axes>"
      ]
     },
     "metadata": {},
     "output_type": "display_data"
    }
   ],
   "source": [
    "plt.scatter(x,y)\n",
    "plt.plot(x,y_pred,color='r')"
   ]
  },
  {
   "cell_type": "code",
   "execution_count": 1624,
   "id": "cda14bff",
   "metadata": {},
   "outputs": [
    {
     "data": {
      "text/plain": [
       "[<matplotlib.lines.Line2D at 0x7fe0f7d3fc40>]"
      ]
     },
     "execution_count": 1624,
     "metadata": {},
     "output_type": "execute_result"
    },
    {
     "data": {
      "image/png": "[encoded data removed]",
      "text/plain": [
       "<Figure size 640x480 with 1 Axes>"
      ]
     },
     "metadata": {},
     "output_type": "display_data"
    }
   ],
   "source": [
    "plt.plot(range(epoch*len(x)),costs)"
   ]
  },
  {
   "cell_type": "markdown",
   "id": "0e9d9626",
   "metadata": {},
   "source": [
    "## sklearn"
   ]
  },
  {
   "cell_type": "code",
   "execution_count": 1625,
   "id": "83e5b571",
   "metadata": {},
   "outputs": [],
   "source": [
    "from sklearn.linear_model import SGDRegressor"
   ]
  },
  {
   "cell_type": "code",
   "execution_count": 1626,
   "id": "76307876",
   "metadata": {},
   "outputs": [
    {
     "name": "stderr",
     "output_type": "stream",
     "text": [
      "/home/ankur/.local/lib/python3.8/site-packages/sklearn/utils/validation.py:1183: DataConversionWarning: A column-vector y was passed when a 1d array was expected. Please change the shape of y to (n_samples, ), for example using ravel().\n",
      "  y = column_or_1d(y, warn=True)\n",
      "/home/ankur/.local/lib/python3.8/site-packages/sklearn/linear_model/_stochastic_gradient.py:1561: ConvergenceWarning: Maximum number of iteration reached before convergence. Consider increasing max_iter to improve the fit.\n",
      "  warnings.warn(\n"
     ]
    }
   ],
   "source": [
    "sgd=SGDRegressor(max_iter=10,eta0=0.0001)\n",
    "sgd.fit(x.reshape(-1,1),y.reshape(-1,1))\n",
    "b0=sgd.intercept_\n",
    "b1=sgd.coef_\n",
    "\n",
    "y_pred=b0+b1*x"
   ]
  },
  {
   "cell_type": "code",
   "execution_count": 1627,
   "id": "6dd341d3",
   "metadata": {},
   "outputs": [
    {
     "name": "stdout",
     "output_type": "stream",
     "text": [
      "mae 2.9943935613987933 mse 10.242982795762996 rmse 3.2004660279032797\n"
     ]
    }
   ],
   "source": [
    "mae=rmse=np.mean(abs(y_pred-y))\n",
    "mse=np.mean((y_pred-y)**2)\n",
    "rmse=np.sqrt(np.mean((y_pred-y)**2))\n",
    "print('mae',mae,'mse',mse,'rmse',rmse)"
   ]
  },
  {
   "cell_type": "code",
   "execution_count": 1628,
   "id": "afeabdca",
   "metadata": {},
   "outputs": [
    {
     "data": {
      "text/plain": [
       "[<matplotlib.lines.Line2D at 0x7fe0f6bf84c0>]"
      ]
     },
     "execution_count": 1628,
     "metadata": {},
     "output_type": "execute_result"
    },
    {
     "data": {
      "image/png": "[encoded data removed]",
      "text/plain": [
       "<Figure size 640x480 with 1 Axes>"
      ]
     },
     "metadata": {},
     "output_type": "display_data"
    }
   ],
   "source": [
    "plt.scatter(x,y)\n",
    "plt.plot(x,y_pred,color='r')"
   ]
  },
  {
   "cell_type": "markdown",
   "id": "e7c5066e",
   "metadata": {},
   "source": [
    "2. Create a CSV file for the above training data and write a Python function program to find the fitted logistic\n",
    "regression with gradient descent technique. Compare the coefficients obtained from the sklearn model with\n",
    "your program. Compute the predicted y and assign the class label (prediction = 0 IF p(fail) < 0.5 and prediction\n",
    "= 1 IF p(pass) >= 0.5) and compute the accuracy. Find the error for each iteration and predict the probability\n",
    "that a student will pass the exam if they study for a) 3.5 hours b) 7.5 hours. Plot the graph of error in y-axis\n",
    "and iteration in x-axis with 3 epochs (8x3=24 iterations)."
   ]
  },
  {
   "cell_type": "code",
   "execution_count": 1629,
   "id": "1f48ce27",
   "metadata": {},
   "outputs": [],
   "source": [
    "def sigmoid(z):\n",
    "    z = np.clip(z, -500, 500) \n",
    "    return 1/(1+np.exp(-z))"
   ]
  },
  {
   "cell_type": "code",
   "execution_count": 1630,
   "id": "7119f53c",
   "metadata": {},
   "outputs": [],
   "source": [
    "def loss(y_hat, y):\n",
    "    epsilon = 1e-10 \n",
    "    y_hat = np.clip(y_hat, epsilon, 1 - epsilon)\n",
    "    return (-1 / len(y)) * np.sum(y * np.log(y_hat) + (1 - y) * np.log(1 - y_hat))\n"
   ]
  },
  {
   "cell_type": "code",
   "execution_count": 1631,
   "id": "a3ed4b93",
   "metadata": {},
   "outputs": [],
   "source": [
    "def logistic(X,Y,epoch,alpha):\n",
    "    b0=0\n",
    "    b1=0\n",
    "    costs=[]\n",
    "    for iter in range(epoch):\n",
    "        y_pred=[]\n",
    "        for i in range(len(X)):\n",
    "            z=b0+b1*X[i]\n",
    "            y_hat=sigmoid(z)\n",
    "            y_pred.append(y_hat)\n",
    "            b0=b0-alpha*(y_hat-Y[i])\n",
    "            b1=b1-alpha*(y_hat-Y[i])*X[i]\n",
    "        cost=loss(np.array(y_pred),y)\n",
    "        if iter%100==0:\n",
    "            print(f'Cost at {iter+1}:',cost)\n",
    "        costs.append(cost)\n",
    "        \n",
    "    return b0,b1,costs"
   ]
  },
  {
   "cell_type": "code",
   "execution_count": 1632,
   "id": "fc4ddd7c",
   "metadata": {},
   "outputs": [
    {
     "data": {
      "text/html": [
       "<div>\n",
       "<style scoped>\n",
       "    .dataframe tbody tr th:only-of-type {\n",
       "        vertical-align: middle;\n",
       "    }\n",
       "\n",
       "    .dataframe tbody tr th {\n",
       "        vertical-align: top;\n",
       "    }\n",
       "\n",
       "    .dataframe thead th {\n",
       "        text-align: right;\n",
       "    }\n",
       "</style>\n",
       "<table border=\"1\" class=\"dataframe\">\n",
       "  <thead>\n",
       "    <tr style=\"text-align: right;\">\n",
       "      <th></th>\n",
       "      <th>Hours</th>\n",
       "      <th>Pass</th>\n",
       "    </tr>\n",
       "  </thead>\n",
       "  <tbody>\n",
       "    <tr>\n",
       "      <th>0</th>\n",
       "      <td>1</td>\n",
       "      <td>0</td>\n",
       "    </tr>\n",
       "    <tr>\n",
       "      <th>1</th>\n",
       "      <td>2</td>\n",
       "      <td>0</td>\n",
       "    </tr>\n",
       "    <tr>\n",
       "      <th>2</th>\n",
       "      <td>3</td>\n",
       "      <td>0</td>\n",
       "    </tr>\n",
       "    <tr>\n",
       "      <th>3</th>\n",
       "      <td>4</td>\n",
       "      <td>0</td>\n",
       "    </tr>\n",
       "    <tr>\n",
       "      <th>4</th>\n",
       "      <td>5</td>\n",
       "      <td>1</td>\n",
       "    </tr>\n",
       "    <tr>\n",
       "      <th>5</th>\n",
       "      <td>6</td>\n",
       "      <td>1</td>\n",
       "    </tr>\n",
       "    <tr>\n",
       "      <th>6</th>\n",
       "      <td>7</td>\n",
       "      <td>1</td>\n",
       "    </tr>\n",
       "    <tr>\n",
       "      <th>7</th>\n",
       "      <td>8</td>\n",
       "      <td>1</td>\n",
       "    </tr>\n",
       "  </tbody>\n",
       "</table>\n",
       "</div>"
      ],
      "text/plain": [
       "   Hours  Pass\n",
       "0      1     0\n",
       "1      2     0\n",
       "2      3     0\n",
       "3      4     0\n",
       "4      5     1\n",
       "5      6     1\n",
       "6      7     1\n",
       "7      8     1"
      ]
     },
     "execution_count": 1632,
     "metadata": {},
     "output_type": "execute_result"
    }
   ],
   "source": [
    "df=pd.read_csv('pass.csv')\n",
    "df"
   ]
  },
  {
   "cell_type": "code",
   "execution_count": 1633,
   "id": "68aa4b28",
   "metadata": {},
   "outputs": [],
   "source": [
    "x=df['Hours'].values\n",
    "y=df['Pass'].values"
   ]
  },
  {
   "cell_type": "code",
   "execution_count": 1634,
   "id": "dfd2bdad",
   "metadata": {},
   "outputs": [
    {
     "name": "stdout",
     "output_type": "stream",
     "text": [
      "Cost at 1: 0.6815258810980122\n",
      "Cost at 101: 0.44581633167574025\n",
      "Cost at 201: 0.35147888252398013\n",
      "Cost at 301: 0.2964721228498481\n",
      "Cost at 401: 0.26059956343949175\n",
      "\n",
      "b0: -3.590247463361757 b1: 0.8974764921153755\n"
     ]
    }
   ],
   "source": [
    "epoch=500\n",
    "alpha=0.01\n",
    "b0,b1,costs=logistic(x,y,epoch,alpha)\n",
    "print(f'\\nb0: {b0} b1: {b1}')"
   ]
  },
  {
   "cell_type": "code",
   "execution_count": 1635,
   "id": "236c9113",
   "metadata": {},
   "outputs": [],
   "source": [
    "y_pred=b0+b1*x"
   ]
  },
  {
   "cell_type": "code",
   "execution_count": 1636,
   "id": "7b236225",
   "metadata": {},
   "outputs": [
    {
     "data": {
      "text/plain": [
       "array([0, 0, 0, 0, 1, 1, 1, 1])"
      ]
     },
     "execution_count": 1636,
     "metadata": {},
     "output_type": "execute_result"
    }
   ],
   "source": [
    "y_hot=(y_pred>=0.5).astype(int)\n",
    "y_hot"
   ]
  },
  {
   "cell_type": "code",
   "execution_count": 1637,
   "id": "20133095",
   "metadata": {},
   "outputs": [
    {
     "data": {
      "text/plain": [
       "[<matplotlib.lines.Line2D at 0x7fe0f6b719d0>]"
      ]
     },
     "execution_count": 1637,
     "metadata": {},
     "output_type": "execute_result"
    },
    {
     "data": {
      "image/png": "[encoded data removed]",
      "text/plain": [
       "<Figure size 640x480 with 1 Axes>"
      ]
     },
     "metadata": {},
     "output_type": "display_data"
    }
   ],
   "source": [
    "plt.scatter(x,y)\n",
    "plt.plot(x,y_hot.T,color='r')"
   ]
  },
  {
   "cell_type": "code",
   "execution_count": 1638,
   "id": "1800f630",
   "metadata": {},
   "outputs": [
    {
     "name": "stdout",
     "output_type": "stream",
     "text": [
      "Accuracy = 100.0 %\n"
     ]
    }
   ],
   "source": [
    "accuracy=np.mean(y_hot==y)*100\n",
    "print(f'Accuracy = {accuracy} %')"
   ]
  },
  {
   "cell_type": "code",
   "execution_count": 1639,
   "id": "5569eb5a",
   "metadata": {},
   "outputs": [
    {
     "name": "stdout",
     "output_type": "stream",
     "text": [
      "3.5 hours: -0.4490797409579428\n",
      "7.5 hours: 3.140826227503559\n"
     ]
    }
   ],
   "source": [
    "y1=b0+b1*3.5\n",
    "y2=b0+b1*7.5\n",
    "print(f'3.5 hours: {y1}\\n7.5 hours: {y2}') "
   ]
  },
  {
   "cell_type": "code",
   "execution_count": 1640,
   "id": "e324f7f6",
   "metadata": {},
   "outputs": [
    {
     "data": {
      "text/plain": [
       "[<matplotlib.lines.Line2D at 0x7fe0f6b58d00>]"
      ]
     },
     "execution_count": 1640,
     "metadata": {},
     "output_type": "execute_result"
    },
    {
     "data": {
      "image/png": "[encoded data removed]",
      "text/plain": [
       "<Figure size 640x480 with 1 Axes>"
      ]
     },
     "metadata": {},
     "output_type": "display_data"
    }
   ],
   "source": [
    "plt.plot(range(1,epoch+1),costs)"
   ]
  },
  {
   "cell_type": "markdown",
   "id": "51660e61",
   "metadata": {},
   "source": [
    "## sklearn"
   ]
  },
  {
   "cell_type": "code",
   "execution_count": 1641,
   "id": "fc82d5a2",
   "metadata": {},
   "outputs": [],
   "source": [
    "from sklearn.linear_model import LogisticRegression"
   ]
  },
  {
   "cell_type": "code",
   "execution_count": 1642,
   "id": "c3c54653",
   "metadata": {},
   "outputs": [
    {
     "name": "stdout",
     "output_type": "stream",
     "text": [
      "\n",
      "b0: -5.264107913297967 b1: 1.1697993675705602\n"
     ]
    }
   ],
   "source": [
    "logreg=LogisticRegression()\n",
    "logreg.fit(x.reshape(-1,1),y)\n",
    "b0=logreg.intercept_[0]\n",
    "b1=logreg.coef_[0][0]\n",
    "\n",
    "y_pred=b0+b1*x\n",
    "y_hot=(y_pred>=0.5).astype(int)\n",
    "print(f'\\nb0: {b0} b1: {b1}')"
   ]
  },
  {
   "cell_type": "code",
   "execution_count": 1643,
   "id": "67719450",
   "metadata": {},
   "outputs": [
    {
     "data": {
      "text/plain": [
       "[<matplotlib.lines.Line2D at 0x7fe0f6ac2ca0>]"
      ]
     },
     "execution_count": 1643,
     "metadata": {},
     "output_type": "execute_result"
    },
    {
     "data": {
      "image/png": "[encoded data removed]",
      "text/plain": [
       "<Figure size 640x480 with 1 Axes>"
      ]
     },
     "metadata": {},
     "output_type": "display_data"
    }
   ],
   "source": [
    "plt.scatter(x,y)\n",
    "plt.plot(x,y_hot.T,color='r')"
   ]
  },
  {
   "cell_type": "code",
   "execution_count": 1644,
   "id": "475e9f18",
   "metadata": {},
   "outputs": [
    {
     "name": "stdout",
     "output_type": "stream",
     "text": [
      "Accuracy = 100.0 %\n"
     ]
    }
   ],
   "source": [
    "accuracy=np.mean(y_hot==y)*100\n",
    "print(f'Accuracy = {accuracy} %')"
   ]
  },
  {
   "cell_type": "markdown",
   "id": "dacdab1d",
   "metadata": {},
   "source": [
    "3. Consider  the  above  dataset  with  two  independent  variables  (X1  and  X2)  and  a  dependent  variable  (Y). \n",
    "Implement  in  python,  how  you  can  perform  the  logistic  regression  to  model  the  relationship  between  the \n",
    "independent variables and the dependent variable."
   ]
  },
  {
   "cell_type": "code",
   "execution_count": 1645,
   "id": "2b2beecf",
   "metadata": {},
   "outputs": [
    {
     "data": {
      "text/html": [
       "<div>\n",
       "<style scoped>\n",
       "    .dataframe tbody tr th:only-of-type {\n",
       "        vertical-align: middle;\n",
       "    }\n",
       "\n",
       "    .dataframe tbody tr th {\n",
       "        vertical-align: top;\n",
       "    }\n",
       "\n",
       "    .dataframe thead th {\n",
       "        text-align: right;\n",
       "    }\n",
       "</style>\n",
       "<table border=\"1\" class=\"dataframe\">\n",
       "  <thead>\n",
       "    <tr style=\"text-align: right;\">\n",
       "      <th></th>\n",
       "      <th>x1</th>\n",
       "      <th>x2</th>\n",
       "      <th>y</th>\n",
       "    </tr>\n",
       "  </thead>\n",
       "  <tbody>\n",
       "    <tr>\n",
       "      <th>0</th>\n",
       "      <td>4</td>\n",
       "      <td>1</td>\n",
       "      <td>2</td>\n",
       "    </tr>\n",
       "    <tr>\n",
       "      <th>1</th>\n",
       "      <td>2</td>\n",
       "      <td>8</td>\n",
       "      <td>-14</td>\n",
       "    </tr>\n",
       "    <tr>\n",
       "      <th>2</th>\n",
       "      <td>1</td>\n",
       "      <td>0</td>\n",
       "      <td>1</td>\n",
       "    </tr>\n",
       "    <tr>\n",
       "      <th>3</th>\n",
       "      <td>3</td>\n",
       "      <td>2</td>\n",
       "      <td>-1</td>\n",
       "    </tr>\n",
       "    <tr>\n",
       "      <th>4</th>\n",
       "      <td>1</td>\n",
       "      <td>4</td>\n",
       "      <td>-7</td>\n",
       "    </tr>\n",
       "    <tr>\n",
       "      <th>5</th>\n",
       "      <td>6</td>\n",
       "      <td>7</td>\n",
       "      <td>-8</td>\n",
       "    </tr>\n",
       "  </tbody>\n",
       "</table>\n",
       "</div>"
      ],
      "text/plain": [
       "   x1  x2   y\n",
       "0   4   1   2\n",
       "1   2   8 -14\n",
       "2   1   0   1\n",
       "3   3   2  -1\n",
       "4   1   4  -7\n",
       "5   6   7  -8"
      ]
     },
     "execution_count": 1645,
     "metadata": {},
     "output_type": "execute_result"
    }
   ],
   "source": [
    "df=pd.read_csv('q3.csv')\n",
    "df"
   ]
  },
  {
   "cell_type": "code",
   "execution_count": 1646,
   "id": "e78e4029",
   "metadata": {},
   "outputs": [],
   "source": [
    "x=df[['x1','x2']].values\n",
    "y=df['y'].values\n",
    "y=(y>0).astype(int)"
   ]
  },
  {
   "cell_type": "code",
   "execution_count": 1647,
   "id": "9736ac9a",
   "metadata": {},
   "outputs": [],
   "source": [
    "def multi_logistic(X,Y,epoch,alpha):\n",
    "    b0=0\n",
    "    b1=0\n",
    "    b2=0\n",
    "    costs=[]\n",
    "    for iter in range(epoch):\n",
    "        y_pred=[]\n",
    "        for i in range(len(X)):\n",
    "            z=b0+b1*X[i][0]+b2*X[i][1]\n",
    "            y_hat=sigmoid(z)\n",
    "            y_pred.append(y_hat)\n",
    "            b0=b0-alpha*(y_hat-Y[i])\n",
    "            b1=b1-alpha*(y_hat-Y[i])*X[i][0]\n",
    "            b2=b2-alpha*(y_hat-Y[i])*X[i][1]\n",
    "        cost=loss(np.array(y_pred),y)\n",
    "        if iter%100==0:\n",
    "            print(f'Cost at {iter+1}:',cost)\n",
    "        costs.append(cost)\n",
    "        \n",
    "    return b0,b1,b2,costs"
   ]
  },
  {
   "cell_type": "code",
   "execution_count": 1648,
   "id": "788eb2ed",
   "metadata": {},
   "outputs": [
    {
     "name": "stdout",
     "output_type": "stream",
     "text": [
      "Cost at 1: 0.6470420901913175\n",
      "Cost at 101: 0.19442431810395794\n",
      "Cost at 201: 0.14400562829298064\n",
      "Cost at 301: 0.11491549447444113\n",
      "Cost at 401: 0.09520137791693703\n",
      "\n",
      "b0: 0.7678373556252962 b1: 0.9620153247735796 b2: -2.5967721733049767\n"
     ]
    }
   ],
   "source": [
    "epoch=500\n",
    "alpha=0.01\n",
    "b0,b1,b2,costs=multi_logistic(x,y,epoch,alpha)\n",
    "print(f'\\nb0: {b0} b1: {b1} b2: {b2}')"
   ]
  },
  {
   "cell_type": "code",
   "execution_count": 1649,
   "id": "aff905b8",
   "metadata": {},
   "outputs": [],
   "source": [
    "y_pred=b0+b1*x[:,0]+b2*x[:,1]"
   ]
  },
  {
   "cell_type": "code",
   "execution_count": 1650,
   "id": "d1ff784b",
   "metadata": {},
   "outputs": [
    {
     "data": {
      "text/plain": [
       "array([1, 0, 1, 0, 0, 0])"
      ]
     },
     "execution_count": 1650,
     "metadata": {},
     "output_type": "execute_result"
    }
   ],
   "source": [
    "y_hot=(y_pred>=0.5).astype(int)\n",
    "y_hot"
   ]
  },
  {
   "cell_type": "code",
   "execution_count": 1651,
   "id": "9855bfb2",
   "metadata": {},
   "outputs": [
    {
     "data": {
      "image/png": "[encoded data removed]",
      "text/plain": [
       "<Figure size 640x480 with 1 Axes>"
      ]
     },
     "metadata": {},
     "output_type": "display_data"
    }
   ],
   "source": [
    "ax = plt.axes(projection=\"3d\")\n",
    "ax.scatter(x[:, 0], x[:, 1], y, color=\"blue\")\n",
    "\n",
    "x1_val = np.linspace(x[:, 0].min(), x[:, 0].max(), 100)\n",
    "x2_val = np.linspace(x[:, 1].min(), x[:, 1].max(), 100)\n",
    "\n",
    "x_axis, y_axis = np.meshgrid(x1_val, x2_val)\n",
    "y_grid = b0 + b1 * x_axis + b2 * y_axis\n",
    "\n",
    "ax.plot_surface(x_axis, y_axis, y_grid, color=\"red\", alpha=0.5)\n",
    "ax.view_init(elev=5,azim=0)"
   ]
  },
  {
   "cell_type": "code",
   "execution_count": 1652,
   "id": "544465f1",
   "metadata": {},
   "outputs": [
    {
     "name": "stdout",
     "output_type": "stream",
     "text": [
      "Accuracy = 100.0 %\n"
     ]
    }
   ],
   "source": [
    "accuracy=np.mean(y_hot==y)*100\n",
    "print(f'Accuracy = {accuracy} %')"
   ]
  },
  {
   "cell_type": "code",
   "execution_count": 1653,
   "id": "7162562e",
   "metadata": {},
   "outputs": [
    {
     "data": {
      "text/plain": [
       "[<matplotlib.lines.Line2D at 0x7fe0f687e3d0>]"
      ]
     },
     "execution_count": 1653,
     "metadata": {},
     "output_type": "execute_result"
    },
    {
     "data": {
      "image/png": "[encoded data removed]",
      "text/plain": [
       "<Figure size 640x480 with 1 Axes>"
      ]
     },
     "metadata": {},
     "output_type": "display_data"
    }
   ],
   "source": [
    "plt.plot(range(1,epoch+1),costs)"
   ]
  },
  {
   "cell_type": "markdown",
   "id": "d776d2c4",
   "metadata": {},
   "source": [
    "### Additional Questions"
   ]
  },
  {
   "cell_type": "code",
   "execution_count": 1654,
   "id": "23fd7be7",
   "metadata": {},
   "outputs": [],
   "source": [
    "df=pd.read_csv('gold_price.csv')"
   ]
  },
  {
   "cell_type": "code",
   "execution_count": 1655,
   "id": "0c7ff18f",
   "metadata": {},
   "outputs": [],
   "source": [
    "x=df['Year'].values\n",
    "y=df['Price'].values\n",
    "\n",
    "y_norm=(y>y.mean()).astype(int)"
   ]
  },
  {
   "cell_type": "code",
   "execution_count": 1656,
   "id": "78eb6f76",
   "metadata": {},
   "outputs": [
    {
     "name": "stdout",
     "output_type": "stream",
     "text": [
      "Cost at 1: -130337.81662451783\n",
      "Cost at 101: -109316.81466610625\n",
      "Cost at 201: -109316.81466610625\n",
      "Cost at 301: -109316.81466610625\n",
      "Cost at 401: -109316.81466610625\n",
      "Cost at 501: -109316.81466610625\n",
      "Cost at 601: -109316.81466610625\n",
      "Cost at 701: -109316.81466610625\n",
      "Cost at 801: -109316.81466610625\n",
      "Cost at 901: -109316.81466610625\n"
     ]
    }
   ],
   "source": [
    "b0,b1,costs=logistic(x,y_norm,1000,0.001)"
   ]
  },
  {
   "cell_type": "code",
   "execution_count": 1657,
   "id": "c345a0c0",
   "metadata": {},
   "outputs": [
    {
     "data": {
      "text/plain": [
       "array([0, 0, 0, 0, 0, 0, 0, 0, 0, 0, 0, 0, 0, 0, 0, 0, 0, 0, 0, 0, 0, 0,\n",
       "       0, 0, 0, 0, 0, 0, 0, 0, 0, 0, 0, 0, 0, 0, 0, 0, 0, 0, 0, 0, 0, 0,\n",
       "       0, 0, 0, 0, 0, 0, 0, 0, 0, 0, 0, 0, 0, 0])"
      ]
     },
     "execution_count": 1657,
     "metadata": {},
     "output_type": "execute_result"
    }
   ],
   "source": [
    "y_pred=b0+b1*x\n",
    "y_hot=(y_pred>=0.5).astype(int)\n",
    "y_hot"
   ]
  },
  {
   "cell_type": "code",
   "execution_count": 1658,
   "metadata": {},
   "outputs": [
    {
     "data": {
      "text/plain": [
       "[<matplotlib.lines.Line2D at 0x7fe0f67eadf0>]"
      ]
     },
     "execution_count": 1658,
     "metadata": {},
     "output_type": "execute_result"
    },
    {
     "data": {
      "image/png": "[encoded data removed]",
      "text/plain": [
       "<Figure size 640x480 with 1 Axes>"
      ]
     },
     "metadata": {},
     "output_type": "display_data"
    }
   ],
   "source": [
    "plt.scatter(x,y_norm)\n",
    "plt.plot(x,y_hot)"
   ]
  },
  {
   "cell_type": "code",
   "execution_count": 1659,
   "id": "cbbf0f83",
   "metadata": {},
   "outputs": [
    {
     "name": "stdout",
     "output_type": "stream",
     "text": [
      "Accuracy = 72.41379310344827 %\n"
     ]
    }
   ],
   "source": [
    "accuracy=np.mean(y_hot==y_norm)*100\n",
    "print(f'Accuracy = {accuracy} %')"
   ]
  },
  {
   "cell_type": "code",
   "execution_count": 1660,
   "id": "ea046112",
   "metadata": {},
   "outputs": [
    {
     "data": {
      "text/plain": [
       "[<matplotlib.lines.Line2D at 0x7fe0f67d4b20>]"
      ]
     },
     "execution_count": 1660,
     "metadata": {},
     "output_type": "execute_result"
    },
    {
     "data": {
      "image/png": "[encoded data removed]",
      "text/plain": [
       "<Figure size 640x480 with 1 Axes>"
      ]
     },
     "metadata": {},
     "output_type": "display_data"
    }
   ],
   "source": [
    "plt.plot(range(len(costs)),costs)"
   ]
  }
 ],
 "metadata": {
  "kernelspec": {
   "display_name": "Python 3 (ipykernel)",
   "language": "python",
   "name": "python3"
  },
  "language_info": {
   "codemirror_mode": {
    "name": "ipython",
    "version": 3
   },
   "file_extension": ".py",
   "mimetype": "text/x-python",
   "name": "python",
   "nbconvert_exporter": "python",
   "pygments_lexer": "ipython3",
   "version": "3.8.10"
  }
 },
 "nbformat": 4,
 "nbformat_minor": 5
}
